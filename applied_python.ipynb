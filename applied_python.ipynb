{
 "cells": [
  {
   "cell_type": "code",
   "execution_count": 11,
   "metadata": {},
   "outputs": [],
   "source": [
    "#Graphs in Python.\n",
    "\n",
    "graph = {\n",
    "    \"a\": {\"c\"},\n",
    "    \"b\": {\"c\",\"e\"},\n",
    "    \"c\": {\"a\",\"b\",\"d\",\"e\"},\n",
    "    \"d\": {\"c\"},\n",
    "    \"e\": {\"c\",\"b\"},\n",
    "    \"f\": {}\n",
    "}\n",
    "\n"
   ]
  },
  {
   "cell_type": "code",
   "execution_count": 14,
   "metadata": {},
   "outputs": [
    {
     "name": "stdout",
     "output_type": "stream",
     "text": [
      "[{'c', 'a'}, {'b', 'c'}, {'b', 'e'}, {'c', 'b'}, {'c', 'a'}, {'c', 'e'}, {'c', 'd'}, {'c', 'd'}, {'c', 'e'}, {'b', 'e'}]\n"
     ]
    }
   ],
   "source": [
    "def generate_edges(graph):\n",
    "    edges = []\n",
    "    for node in graph:\n",
    "        for neighbor in graph[node]:\n",
    "            edges.append({node, neighbor})\n",
    "    return edges\n",
    "\n",
    "print(generate_edges(graph))"
   ]
  },
  {
   "cell_type": "code",
   "execution_count": null,
   "metadata": {},
   "outputs": [],
   "source": []
  }
 ],
 "metadata": {
  "kernelspec": {
   "display_name": "Python 3",
   "language": "python",
   "name": "python3"
  },
  "language_info": {
   "codemirror_mode": {
    "name": "ipython",
    "version": 3
   },
   "file_extension": ".py",
   "mimetype": "text/x-python",
   "name": "python",
   "nbconvert_exporter": "python",
   "pygments_lexer": "ipython3",
   "version": "3.11.0"
  },
  "orig_nbformat": 4,
  "vscode": {
   "interpreter": {
    "hash": "c261aea317cc0286b3b3261fbba9abdec21eaa57589985bb7a274bf54d6cc0a7"
   }
  }
 },
 "nbformat": 4,
 "nbformat_minor": 2
}
