{
 "cells": [
  {
   "attachments": {},
   "cell_type": "markdown",
   "metadata": {},
   "source": [
    "Sauti Sol Songs<br/>\n",
    "Data Science <br/>\n",
    "Project No. 001<br/>\n",
    "Date 21/12/2022<br/>\n",
    "Author: Lawrence M.<br/>\n",
    "git profile [https://github.com/Lawi365]\n"
   ]
  },
  {
   "attachments": {},
   "cell_type": "markdown",
   "metadata": {},
   "source": [
    "#The Challenge<br/>\n",
    "For seasoned music lovers especially in Kenya or beyond Sauti Sol has captured the hearts of many me included which is not strange after all they are the best boys band in africa & beyond.<br/>\n",
    "Now because I have been a huge fan of their Music from waay way back Sometimes singing along with no song in play...<br/> This got me thinking :- mmh \n",
    "<img src=\"\"/>\n",
    "1. To write a song that is almost similar to theirs what words should I use.\n",
    "2. The topics and Certain repetitions that are essential.\n",
    "3. My mind is now ready to be blown away what will we discover?\n",
    "I turn to the good old pal Data Science. This will be the First project. Next time we will use Chat gpt to come up with somethings cool..... "
   ]
  },
  {
   "attachments": {},
   "cell_type": "markdown",
   "metadata": {},
   "source": [
    "### Gathering the Data.\n",
    "A Quick Search on Youtube pages will reveal that Sauti Sol Songs now have lyrics as part of the music info.\n",
    "Now extracting that will take time considering that youtube Has Vast of Info and I'm kinda lazy I dont want to spend the entire day cleaning data. 60+ Songs Is not a joke.\n",
    "\n",
    "## Song Lyrics.\n",
    "Song lyrics will suffice in this case. I go to the internet then search for the Lyrics to Senje. If you know you know.\n",
    "Luckily [https://azlyrics.com] got me covered.\n",
    "Infact their Website is so Good it listed the albums and the Songs from 2009 The LAZizi error to 2022 Little Mama.\n",
    "\n",
    "Now that give me even better ideas How to transition the topics.\n",
    "But we will see what other data we can merge into this file.\n",
    "I now turn to use my Tools.\n",
    "\n",
    "### Tools \n",
    "1. BeautifulSoup -> to target those divs\n",
    "2. Request -> get the webpage\n",
    "3. Data Science Arsenal (seaborn,matplotlib,pandas,numpy etc...)\n",
    "4. Json (power outage taught me something..)\n",
    "\n",
    "### Enjoy the Insights.\n",
    "# quick breakdown.\n",
    "1. Website and Data gathering.\n",
    "2. Analysis and Recomendations."
   ]
  },
  {
   "cell_type": "code",
   "execution_count": 3,
   "metadata": {},
   "outputs": [
    {
     "name": "stdout",
     "output_type": "stream",
     "text": [
      "Done\n"
     ]
    }
   ],
   "source": [
    "\n",
    "import requests\n",
    "import json\n",
    "from bs4 import BeautifulSoup as bs\n",
    "\n",
    "print(\"Done\")"
   ]
  },
  {
   "cell_type": "code",
   "execution_count": 4,
   "metadata": {},
   "outputs": [
    {
     "name": "stdout",
     "output_type": "stream",
     "text": [
      "page download succesful\n"
     ]
    }
   ],
   "source": [
    "website_url = \"https://www.azlyrics.com/s/sautisol.html\"\n",
    "\n",
    "#We then request the web page.\n",
    "page = requests.get(website_url)\n",
    "\n",
    "#pass it to Bs for more analysis.\n",
    "page_analysis = bs(page.content, 'html.parser')\n",
    "\n",
    "#peak into it\n",
    "print(\"page download succesful\")"
   ]
  },
  {
   "attachments": {},
   "cell_type": "markdown",
   "metadata": {},
   "source": [
    "### Sneek Peack.\n",
    "I'll target the id=\"listAlbum\" then get the link inside the hrefs.\n",
    "\n",
    "<div id=\"listAlbum\">\n",
    "<div class=\"album\" id=\"52772\">album: <b>\"Mwanzo\"</b> (2009)<div><img alt=\"Sauti Sol - Mwanzo album cover\" class=\"album-image\" src=\"/images/albums/527/cfba0956fb898c6371b1c7e4026aa204.jpg\"/></div></div>\n",
    "<div class=\"listalbum-item\"><a href=\"/lyrics/sautisol/asubuhi.html\" target=\"_blank\">Asubuhi</a></div>\n",
    "<div class=\"listalbum-item\"><a href=\"/lyrics/sautisol/lazizi.html\" target=\"_blank\">Lazizi</a></div>\n",
    "<div class=\"listalbum-item\"><a href=\"/lyrics/sautisol/mafunzoyadunia.html\" target=\"_blank\">Mafunzo Ya Dunia</a></div>"
   ]
  },
  {
   "cell_type": "code",
   "execution_count": 5,
   "metadata": {},
   "outputs": [
    {
     "name": "stdout",
     "output_type": "stream",
     "text": [
      "['\"mwanzo\" (2009)', '\"sol filosofia\" (2011)', '\"live and die in afrika\" (2015)', '\"afrikan sauce\" (2019)', '\"midnight train\" (2020)', 'other songs']\n"
     ]
    }
   ],
   "source": [
    "sol_links = page_analysis.find('div',{\"id\":'listAlbum'})\n",
    "#now i need to create a json file to store the album name. together with the songs in that album\n",
    "#i'm now turning to json file yesterday the power went off and i did not save anything.\n",
    "#we have to do it again today.\n",
    "idss = [\"52773\",\"52774\",\"65442\"]\n",
    "\n",
    "# for ids in idss:\n",
    "#     #get album name\n",
    "album_names = [tc.get_text().lower().strip(\"'album: '\") for tc in page_analysis.select(\".album\")]\n",
    "print(album_names)\n"
   ]
  },
  {
   "cell_type": "code",
   "execution_count": 6,
   "metadata": {},
   "outputs": [
    {
     "data": {
      "text/plain": [
       "['asubuhi',\n",
       " 'lazizi',\n",
       " 'mafunzo-ya-dunia',\n",
       " 'zosi',\n",
       " 'mama-papa',\n",
       " 'blue-uniform',\n",
       " 'mbinguni',\n",
       " 'malikia',\n",
       " 'coming-home',\n",
       " 'soma-kijana',\n",
       " 'awinja',\n",
       " 'nambee',\n",
       " 'l.a.d.y.',\n",
       " 'row-your-boat',\n",
       " 'sofia',\n",
       " 'private-spice',\n",
       " 'sol-generation',\n",
       " 'sura-yako',\n",
       " 'live-and-die-in-afrika',\n",
       " 'say-yeah',\n",
       " 'isabella',\n",
       " \"it's-okay\",\n",
       " 'nishike',\n",
       " 'dollar-dollar',\n",
       " 'still-the-one',\n",
       " 'kiss-me',\n",
       " 'nerea',\n",
       " 'kuliko-jana',\n",
       " 'nipe-nikupe',\n",
       " 'shake-yo-bam-bam',\n",
       " 'relax',\n",
       " 'melanin',\n",
       " 'girl-next-door',\n",
       " 'afrikan-star',\n",
       " 'rewind',\n",
       " 'short-n-sweet',\n",
       " 'tujiangalie',\n",
       " 'love-again',\n",
       " 'mbozi-za-malwa',\n",
       " 'tulale-fofofo',\n",
       " 'kamasutra',\n",
       " 'africa',\n",
       " 'intro',\n",
       " 'midnight-train',\n",
       " 'insecure',\n",
       " 'feel-my-love',\n",
       " 'brighter-days',\n",
       " 'nenda-lote',\n",
       " 'suzanna',\n",
       " 'set-me-free-(interlude)',\n",
       " 'my-everything',\n",
       " 'wake-up',\n",
       " 'sober',\n",
       " 'rhumba-japani',\n",
       " 'disco-matanga-(yambakhana)',\n",
       " 'birthday-song',\n",
       " 'bypass',\n",
       " 'extravaganza',\n",
       " 'lil-mama',\n",
       " 'money-lover',\n",
       " 'nairobi',\n",
       " 'oversized-t-shirt',\n",
       " 'sexting',\n",
       " 'unconditionally-bae']"
      ]
     },
     "execution_count": 6,
     "metadata": {},
     "output_type": "execute_result"
    }
   ],
   "source": [
    "music_names = [tc.get_text().lower().replace(' ','-') for tc in page_analysis.select(\".listalbum-item a\")]\n",
    "music_names"
   ]
  },
  {
   "cell_type": "code",
   "execution_count": 7,
   "metadata": {},
   "outputs": [
    {
     "name": "stdout",
     "output_type": "stream",
     "text": [
      "song lyrics have been downloaded\n"
     ]
    }
   ],
   "source": [
    "# Now that we have the song names.\n",
    "# we can now define a function that will get the lyrics.\n",
    "\n",
    "def get_lyrics(music):\n",
    "    \"\"\"\n",
    "    This function gets the song Lyrics given the song link.\n",
    "\n",
    "    Args:\n",
    "        music (_type_): List of song names\n",
    "        \n",
    "    Returns:\n",
    "        songs_lyrics in a dictionary.\n",
    "    \"\"\"\n",
    "    import time\n",
    "    # example\n",
    "    '''\n",
    "    song_info = {\n",
    "        \"name\" :'',\n",
    "        \"new_link\" : '',\n",
    "        \"lyrics\" : '',\n",
    "    }'''\n",
    "    new_links = []\n",
    "    lyrics = []\n",
    "\n",
    "    for i in music:\n",
    "        # get full links for this I switched to genius lyrics\n",
    "        link_m = f\"https://genius.com/Sauti-sol-{i}-lyrics\"\n",
    "        new_links.append(link_m)\n",
    "        # now get the lyrics.\n",
    "        # 1. GET THE PAGE\n",
    "\n",
    "        try:\n",
    "            page = bs(requests.get(link_m).content, 'html.parser')\n",
    "            # print(page)\n",
    "            lyr =[x.get_text(\" \") for x in  page.select(\"div[data-lyrics-container]\")]\n",
    "            # print(lyr)\n",
    "            lyrics.append(lyr)\n",
    "\n",
    "        except:\n",
    "            pass\n",
    "        time.sleep(1)\n",
    "\n",
    "    print(\"song lyrics have been downloaded\")\n",
    "    #i'll do the formating afterwards.\n",
    "    return lyrics\n",
    "\n",
    "\n",
    "my_lyrics = get_lyrics(music_names)\n"
   ]
  },
  {
   "cell_type": "code",
   "execution_count": 8,
   "metadata": {},
   "outputs": [
    {
     "data": {
      "text/plain": [
       "[\"Wayo wayo Wayo wayo wayo wayo wayo Asubuhi ni sura yako niionayo niionayo Asubuhi ni sura yako niionayo Nikishukuru Mola kukuona we kweli Kweli ni baraka aah In the morning it's your face I see I boil inside you're here you're close to me Na tabasamu lako kanijaza furaha tele Mi niendelee kukuoenda Nikishukuru Mola kukuona we Kweli, kweli ni baraka I'm in love (I'm in love) I don't know what to say I see you everyday I hope you feel the same I'm in love (I'm in love) I don't know what to say I see you everyday I hope you feel the same I'm in love I'm in love I'm in love I'm in love I am, I am, I am who I am (you are) You are, you are, you are who you are I like, I like, I like what I see So we, so we, so we can be we Mimi ndim mimi ni mimi Wewe ndiwe wewe ni wewe (wewe ni wewe) Napenda ninachoona (ooh unacho...) Tuwe, tuwe, tuwe ni sisi Nikishukuru Mola kukuona we Kweli, kweli ni baraka I'm in love (I'm in love) I don't know what to say I see you everyday I hope you feel the same I'm in love (I'm in love) I don't know what to say I see you everyday I hope you feel the same I'm in love I'm in love I'm in love I'm in love Unavyonizengua zengua zengua (Zosi) Unanichemsha chemsha chemsha (Zosi) Unavyong'aria ng'aria ng'aria Zosi (Zosi) Unavyonizengua zengua zengua (Zosi) Unanichemsha chemsha chemsha (Zosi) Unavyong'aria ng'aria ng'aria (Zosi) eeh ee ee eeh Asubuhi ni sura yako niionayo (niionayo) Na usiku silali ni sura yako niionayo Nikishukuru Mola kukuona we Kweli, kweli ni baraka I'm in love (I'm in love) I don't know what to say I see you everyday I hope you feel the same I'm in love (I'm in love) I don't know what to say I see you everyday I hope you feel the same I'm in love I'm in love (I'm so in love with you) I'm in love (I'm so in love with you) I'm in love I'm in love\"]"
      ]
     },
     "execution_count": 8,
     "metadata": {},
     "output_type": "execute_result"
    }
   ],
   "source": [
    "my_lyrics[0]"
   ]
  },
  {
   "attachments": {},
   "cell_type": "markdown",
   "metadata": {},
   "source": [
    "### Now We will Load the data into Pandas df."
   ]
  },
  {
   "cell_type": "code",
   "execution_count": 9,
   "metadata": {},
   "outputs": [
    {
     "data": {
      "text/plain": [
       "'{\"song_name\": [\"asubuhi\", \"lazizi\", \"mafunzo-ya-dunia\", \"zosi\", \"mama-papa\", \"blue-uniform\", \"mbinguni\", \"malikia\", \"coming-home\", \"soma-kijana\", \"awinja\", \"nambee\", \"l.a.d.y.\", \"row-your-boat\", \"sofia\", \"private-spice\", \"sol-generation\", \"sura-yako\", \"live-and-die-in-afrika\", \"say-yeah\", \"isabella\", \"it\\'s-okay\", \"nishike\", \"dollar-dollar\", \"still-the-one\", \"kiss-me\", \"nerea\", \"kuliko-jana\", \"nipe-nikupe\", \"shake-yo-bam-bam\", \"relax\", \"melanin\", \"girl-next-door\", \"afrikan-star\", \"rewind\", \"short-n-sweet\", \"tujiangalie\", \"love-again\", \"mbozi-za-malwa\", \"tulale-fofofo\", \"kamasutra\", \"africa\", \"intro\", \"midnight-train\", \"insecure\", \"feel-my-love\", \"brighter-days\", \"nenda-lote\", \"suzanna\", \"set-me-free-(interlude)\", \"my-everything\", \"wake-up\", \"sober\", \"rhumba-japani\", \"disco-matanga-(yambakhana)\", \"birthday-song\", \"bypass\", \"extravaganza\", \"lil-mama\", \"money-lover\", \"nairobi\", \"oversized-t-shirt\", \"sexting\", \"unconditionally-bae\"], \"lyrics\": [[\"Wayo wayo Wayo wayo wayo wayo wayo Asubuhi ni sura yako niionayo niionayo Asubuhi ni sura yako niionayo Nikishukuru Mola kukuona we kweli Kweli ni baraka aah In the morning it\\'s your face I see I boil inside you\\'re here you\\'re close to me Na tabasamu lako kanijaza furaha tele Mi niendelee kukuoenda Nikishukuru Mola kukuona we Kweli, kweli ni baraka I\\'m in love (I\\'m in love) I don\\'t know what to say I see you everyday I hope you feel the same I\\'m in love (I\\'m in love) I don\\'t know what to say I see you everyday I hope you feel the same I\\'m in love I\\'m in love I\\'m in love I\\'m in love I am, I am, I am who I am (you are) You are, you are, you are who you are I like, I like, I like what I see So we, so we, so we can be we Mimi ndim mimi ni mimi Wewe ndiwe wewe ni wewe (wewe ni wewe) Napenda ninachoona (ooh unacho...) Tuwe, tuwe, tuwe ni sisi Nikishukuru Mola kukuona we Kweli, kweli ni baraka I\\'m in love (I\\'m in love) I don\\'t know what to say I see you everyday I hope you feel the same I\\'m in love (I\\'m in love) I don\\'t know what to say I see you everyday I hope you feel the same I\\'m in love I\\'m in love I\\'m in love I\\'m in love Unavyonizengua zengua zengua (Zosi) Unanichemsha chemsha chemsha (Zosi) Unavyong\\'aria ng\\'aria ng\\'aria Zosi (Zosi) Unavyonizengua zengua zengua (Zosi) Unanichemsha chemsha chemsha (Zosi) Unavyong\\'aria ng\\'aria ng\\'aria (Zosi) eeh ee ee eeh Asubuhi ni sura yako niionayo (niionayo) Na usiku silali ni sura yako niionayo Nikishukuru Mola kukuona we Kweli, kweli ni baraka I\\'m in love (I\\'m in love) I don\\'t know what to say I see you everyday I hope you feel the same I\\'m in love (I\\'m in love) I don\\'t know what to say I see you everyday I hope you feel the same I\\'m in love I\\'m in love (I\\'m so in love with you) I\\'m in love (I\\'m so in love with you) I\\'m in love I\\'m in love\"], [\"Verse 1: Lazizi wangu we Zawadi nono kutoka mbinguni Nakuwaza my baby  ( Nakuwaza my baby) Nikikuwaza usiku silali Chorus: Nikikuona na wengine nashikwa na wivu Naomba unipe number yako nikuvutie wire Nikupeleke Java Tunywe kahawa Tukizubaa dubaa dubaa Verse 2: Mukhali wanje we Shihanwa shyanje khurula khu-nyasaye Ndakhuyanza my baby (Ndakhuyanza my baby) Shihanwa shyanje khurula khu-nyasaye Chorus Bridge: Zunguka zunguzukane Nikitafuta kama wewe Mi nafeel so nice Unanipa mi amani Mbele Baby Sioni njia bila wewe Wewe...eeeh Lazizi Chorus Mazoe manana (Mazoe manana ah) Kadonangaeuta na lola, Na Kanisakayo sheri nanga Soki yo tena nzanga kapongi (Mpenzi) Chorus\"], [\"Mafunzo ya dunia Niishi ni ose Nisote nikope Nipate ya wote Utatembea pengi Na macho ni mingi Sikio ni mbili Tumia akili Uwe wa kwanza Usiwe wa pili Maisha si movie katika hizi enzi Oooh dunia mbona hukunipa penzi Maisha haya kwako hapa ni magumu Ninavumilia mwisho nitajivunia ya dunia mbona hukunipa penzi Mimi nina shangaa (aaaaah) Mimi nishangaa Nilifanya nini Ili niishi ivi Maisha yangu yangu duni Naimba hii mziki nipate riziki Mwisho nitanawiri niendeshe mercedes Nitangaa shida za dunia niziache nyuma niendelee Dunia mbona hukunipa penzi Maisha haya kwangu hapa ni magumu Ninavumilia mwisho nitajivunia Ya dunia mbona hukunipa penzi Mimi ninashangaa (aaaaaah) Mimi ninashangaa\"], [], [\"[Verse 1: Bien] Nimlinde nimpende eh!asali wangu wa moyo Chanda ni ye na pete ni mi, nampenda mimi kichizi Chapati ye madondo ni mi, kumpenda mi sitasizi Uuh mimi ni ye na yeye ni mi, nampenda mimi Kichizi yiyiyi yiyi nampenda mimi kichizi yiyiyi [Hook] Mama mama, I love ur daughter daughter N I want to be with her Spend the rest of my life with her Papa papa I love this man she\\'s my star N I want to be with him Spend the rest of my life with him [Verse 2: Dela] You can be sure, that he\\'ll take care of me. You can Be sure mama papa kwamba he\\'ll always be there for Me Ninaomba penzi letu hili linawiri Ninaomba mkubali ye animiliki, because.. [Hook] Mama mama, I love ur daughter daughter N I want to be with her Spend the rest of my life with her Papa papa I love this man she\\'s my star N I want to be with him Spend the rest of my life with him\", \"[Bridge] She loves me She loves me She loves me She loves me Mama binti yo, malaika pia ni mrembo kupindukia Mama binti yo, malaika pia ni mrembo kupindukia [Hook] Mama mama, I love ur daughter daughter N I want to be with her Spend the rest of my life with her Papa papa I love this man she\\'s my star N I want to be with him Spend the rest of my life with him Adel Adel Adel Adel I gotta alot a love 4u Bien Bien Bienaime I gotta alot a love 4u Adel Adel Adel Adel I gotta alot a love 4u Bien Bien Bienaime I gotta alot a love 4u\"], [\"Sina makosa afande uniwie radhi Nimetoka kuimba Na kitambulisho mi sina nimepoteza wallet na Sijachukua nyingine Na sijakataa kosa nililofanya ah Sijakataa kitambilisho sina Sijakataa chini nimeshaketi Usiniseti afande usiniseti afande Hey you in the blue uniform If I have wronged you I will reform Raia analia Hey you, hey you Heey Natambua kwamba hamna kosa, ulilofanya eh Kitambulisho hicho hauna nikufanyeje Mapato yangu nimadogo, nategemea kidogo Ni kazi yangu ujira wangu Hujakataa kosa ulilofanya Hujakataa chini umeshaketi Hujakataa kitambulisho huna Nitakuseti raia, fuata sheria Hey you in the blue uniform If I have wronged you I will reform Raia analia Hey you, hey you Aaah... ahaa... Umezoea kuchelewa Siku mingi nimekulenga Naona watuzoea (mmmh) Kuanzia leo nakuonya, ujichunge Ama nitakuweka ndani weeiiih Hujakataa kosa ulilofanya eh Nakuonya we mwananchi wewe Ntakuacha leo uende nyumba Onyo kwako we Raia wee Hey you in the blue uniform If I have wronged you I will reform Raia analia Hey you, hey you In the blue uniform... In the blue uniform... In the blue uniform... In the blue uniform... Hey you, hey you Hey you, hey you Hey you, hey you Hey you, hey you Hey you in the blue uniform If I have wronged you I will reform Raia analia (kilioo) Hey you, hey you Hey you in the blue uniform If I have wronged you I will reform Raia analia Hey you, hey you Hey you in the blue uniform If I have wronged you I will reform Raia analia Hey you, hey you\"], [], [], [\"Mpenzi leo naenda safari, safari na ni ya mbali Ukiwaza kuni miss my darl, tabasamu kidogo In every stage n every song i play Every fan that would scream my name I will always be wit u in my heart I will miss you forever My days are long, kweli ninakupenda My nights so cold, kweli ninakutaka I miss your touch, kweli ninakupenda I miss your love, am coming home........ Whenever wherever i go You r on my mind, all the time I miss you mpenzi, I miss you my Cherie Even with all the cars, all the work, all the time i spend away Always know i love you baby, my one and only...... My days are long, kweli ninakupenda My nights so cold, kweli ninakutaka I miss your love, kweli ninakupenda I miss your touch, am coming home........ Popote ulipo oh, mi nakuwaza mama ah Popote ulipo Cherie we eh, you art my only lady Narudi salama ah, oh eh oh eh oh eh Nakozola kala mingi te eh, bolingo na ngae Popote ulipo oh, mi nakuwaza mama ah Popote ulipo Cherie we eh, you arte my only lady Narudi salama ah, oh eh oh eh oh eh Nakozola kala mingi te eh, bolingo na ngae My days are long, kweli ninakupenda My nights so cold, kweli ninakutaka I miss your love, kweli ninakupenda I miss your touch, am coming home........\"], [], [], [], [], [], [], [], [\"We are the leaders of tomorrow We will lead and they will follow So don\\'t you listen when they tell you Cause you\\'re bigger than you think you are So don\\'t you put down your brother Cause together you are stronger Wajanja hands put together They will never lay us under Ghetto youth are getting wiser They don\\'t care about your Monday It\\'s another generation A mental revolution So don\\'t you put down your brother Cause together you are stronger Wajanja hands put together They will never lay us under [Vocalizing]\"], [\"[Translation] [Verse 1] Nimekuchagua wewe, nikupende Mama, sitaki mwingine Aushi usiniache, usinitende Mama, usipende mwingine [Pre-Chorus] Moyo wangu ni mwepesi Umenikalia chapati Nafanya vituko kama chizi Kukupenda sitasizi Moyo wangu ni mwepesi Umenikalia chapati Nafanya vituko kama chizi Kukupenda sitasizi [Chorus] Sura yako mzuri mama, aaaah Mzuri mama Na tabasamu lako maua, aaaah Mzuri mama Sura yako mzuri mama, aaaah Mzuri mama Na tabasamu lako maua, aaaah Mzuri mama [Verse 2] Itabidi nikulinde, nikutunze Mama, usikose lolote Pete nayo nikuvishe, nikuoe Mama, usiende popote [Pre-Chorus] Juu moyo wangu ushakubali Umenikalia chapati Nitakulinda kama polisi, Eh! Itabidi nikumarry Moyo wangu ushakubali Umenikalia chapati Nitakulinda kama polisi, Eh! Itabidi nikumarry\", \"[Chorus] Sura yako mzuri mama, aaaah Mzuri mama Na tabasamu lako maua, aaaah Mzuri mama Sura yako mzuri mama, aaaah Mzuri mama Na tabasamu lako maua, aaaah Mzuri mama Na figure yako kama ya chupa, aaaah Mzuri Mama Na sura yako mzuri mama, aaaah Mzuri mama [Bridge] Piga dansi kidogo Piga da, piga dansi kidogo Dansi kidogo Piga da piga dansi kidogo Dansi kidogo Piga da piga dansi kidogo Dansi kidogo Sura yako mzuri mama, aaaah Mzuri mama Na tabasamu lako maua, aaaah Mzuri mama Sura yako mzuri mama, aaaah You\\\\u2019re so so beautiful You\\\\u2019re so so yeah\", \"[Outro] (Mama, yeah) Piga dansi kidogo (Mizuri mama) Baby dansi kidogo (Mizuri mama) Mama dansi kidogo (Mizuri mama) Nafiga yako kama ya chupa Piga dansi kidogo (Mizuri mama) Baby dansi kidogo (Mizuri mama) Mama dansi kidogo (Mizuri mama) Na tabasamu lako kama maua (Mzuri mama, Mzuri mama) Mama dansi kidogo Niwe, niwe, niwe, niwe\"], [\"I wanna be rich, I wanna be famous I wanna have lots lots of money, soar above the clouds I wanna be free like Nelson Mandela, stand tall like a pyramid, so so courageous No place I\\\\u2019d rather be oh na na oh na na There\\\\u2019s no place I\\\\u2019d rather be oh na na Live and die in Afrika I wanna live and die in Afrika Live and die in Afrika Live and die in Afrika I wanna feel love, I wanna be remembered I wanna go down in history, make my mama proud The darker the berry, the sweeter the juice Na sitoki nyumbani mwacha mila ni mtumwa No place I\\\\u2019d rather go No place I\\\\u2019d rather go I live and die in Afrika Live and die in Afrika Live and die in Afrika Live and die in Afrika ...\"], [\"[Verse 1] Nobody can test the way you look tonight (nobody) Girl your character\\\\u2019s sweet and the way\\\\u2005you\\\\u2005move and hold\\\\u2005me tight (uh-huh) Oooh Your flawless skin The spark\\\\u2005in your eye Sweet African daughter I wanna bring cows to your mama [Chorus] You make me say yeah I\\\\u2019m loving what you do say yeah Rusha rusha mikono juu Say yeah, oh yeah This feeling that you give me Ever since you came my way (You came my way) I\\\\u2019m in love with you baby (baby) Oh yeah tout le monde say yeah [Verse 2] Relax and baby let me take you for a ride To another place where you and me can feel alright Nikikuona (ona) Naona ndoa (ndoa) Sweet African daughter, I wanna bring cows to your papa [Chorus] You make me say yeah I\\\\u2019m loving what you do say yeah Rusha rusha mikono juu Say yeah, oh yeah This feeling that you give me Ever since you came my way (You came my way) I\\\\u2019m in love with you baby (baby) Oh yeah tout le monde say yeah Cause you make me say yeah I\\\\u2019m loving what you do say yeah Rusha rusha mikono juu Say yeah, oh yeah This feeling that you give me Ever since you came my way (You came my way) I\\\\u2019m in love with you baby (baby) Oh yeah tout le monde say yeah\", \"[Bridge] In the name of the father, of the son, of the holy ghost I\\\\u2019ll never falter (never leave your side my love) Katika jina la baba, na la mwana, na roho takatifu Sitakuwacha I\\\\u2019ll never leave your side my love [Chorus] You make me say yeah I\\\\u2019m loving what you do say yeah Rusha rusha mikono juu Say yeah, oh yeah This feeling that you give me Ever since you came my way (You came my way) I\\\\u2019m in love with you baby (baby) Oh yeah tout le monde say yeah Oooooohh Woah, woah, woah, woah You make me say yeah I\\\\u2019m loving what you do say yeah Rusha rusha mikono Yeah yeah yeah (Say yeah) oh yeah This feeling that you give me Ever since you came my way (You came my way) I\\\\u2019m in love with you baby (baby) Oh yeah tout le monde say yeah\", \"[Outro] Tout le monde say yeah Tout le monde say Oh yeah tout le monde say I\\'m loving this feeling This feeling that you give me Eh Tout le monde say Yeah Tout le monde say yeah yeah\"], [\"Hey Isabella are you gonna come out and dance with me tonight The stars look beautiful outside, so so beautiful Tell your mama I said sorry I didn\\'t bring you home early last time And I was a little tipsy I know she doesn\\'t miss me So put on those shoes that I like and we\\'ll go and dance the night away away [Chorus] Because YOLO YOLO (you only live once) so, and me I wanna have some fun  vunja mifupa kama meno iko , up and away we go, and spend all my money on you baby \\'cause I can\\'t take it  with me when I\\'m dead So tonight, tonight we are young, high and in love Isabella, one day I\\'ll be a superstar, we\\'ll go to America, big show in a stadium Isabella, today we boda boda tomorrow we motoka So put on the dress that hugs you tight and we\\'ll go and dance the night  away away with you [Chorus]\"], [], [\"[Verse 1: Bien] Turn off the lights pretty baby Put on some make love song Turn down the noise pretty\\\\u2005darling Play\\\\u2005me some Sauti\\\\u2005Sol Nimeshikwa na mahanjam, mahanjam Zanipanda mahanjam Let me\\\\u2005whisper in your ear Baby get me right and clear [Chorus] Oooh nikushike (Unishike) Nikushike (Unishike) Nikushike baby (Unishike) Nikushike Until you say Aaaaaaaaaaaaaaaaaiiii I\\'m gonna make you say aiyaiya (Aiyaiya) [Verse 2: Mudigi] Its me and you Baby, let\\'s get in the mood (Ooh) Hey you with a pretty little smile I wanna see the light just shining in your eyes You know what to do So, zima zima taa Washa, washa mishumaa Pandisha mzuka baby sasa twende kazi Tamu kama wali wa nazi Nakuomba baby [Chorus]\", \"Unishike (Unishike) Unishike mpenzi (Unishike) Unishike (Unishike) No no no no no no no no Until you say aaaaaaaaai (Aiyaaiyaiya) Until you say aaaaaaaaai [Verse 3: Chimano] Mmmh I wanna hold you tighter and sweeter Lets make love tonight I wanna kiss you tender and deeper Lets make la, la, la, la, love I wanna hold you tighter, and sweeter Lets make love tonight I wanna kiss you tender, and deeper Lets make, lets make, lets make love La la la la la la la la la la la long love babe (Lets Make) Lets make love La la la la la la la la la la la long loving And baby when you Tease me, tease me, tease me, tease me, te tease me baby Put your arms around my body ey ey ey ey eeh [Chorus]\", \"Uuuuuh nishike baby (Unishike) Touch me baibe (Unishike) Oooh hold me honey (Unishike) Yeah yeah yeah yeah yeah yeah Oooh nishike (Unishike) (Unishike) Yeeeeaaaaahhhh ah ah ah ah ah [Outro]\"], [\"The best things in life are free She\\'s a woman and she got needs She needs money She\\\\u2005needs\\\\u2005money Fancy cars, Cuban\\\\u2005cigars, hanging with superstars She needs money She\\\\u2005needs cash Lifestyle of the rich and famous Yeah, She wanna be a baller (baller) A Short caller (caller) Show me the Money Dollar Dollar Dollar Euro (shilling) Dollar Dollar Dollar Euro She\\\\u2019s walking by the Roadside Looking for a good life Looking to survive (she needs cash) No mama, No papa My soul and nangata Quick money, sweet cash Lifestyle of the rich and famous She wanna be a baller (baller) A short caller (caller) So show me the money Dollar Dollar Dollar Euro (shilling) Dollar Dollar Dollar Euro (shilling) Uuh La la la la Show me the money Dollar Dollar Dollar Euro (shilling) Dollar Dollar Dollar Euro So do what you wanna do Mi nasaka Dollar Say what you wanna say Mi nasaka Dollar Go where you wanna go Mi nasaka Dollar Mi nasaka Dollar Do what you wanna Do Mi nasaka Dollar Say what you gonna say Mi nasaka Dollar Go where you wanna go Mi nasaka Dollar Mi nasaka DollarShow me the money Dollar Dollar Dollar Euro Dollar Dollar Dollar Euro Show me the money Dollar Dollar Dollar Euro Mi nasaka Dollar Dollar Dollar Dollar Euro Mi nasaka Dollar Show me the money Dollar Dollar Dollar Euro Dollar Dollar Euro Show me the money Dollar Dollar Dollar Euro Mi nasaka Dollar Dollar Dollar Dollar Euro Mi nasaka Dollar\"], [\"[Intro: Bien] Another one for the ladies, Sauti Sol Yeah, yeah baby Touch me baby [Verse 1: Bien] Tulipokuwa primo, ulisema umeninoki Nikakuseti kwa\\\\u2005odijo Tukaingia\\\\u2005seco, adole zikanipanda Nikaku\\\\u2005kiss kwenye bus stop, yeah Tukaingia campo,\\\\u2005nikasema nakupenda Ukasema unasoma [Pre Chorus] Na bado nakuona daily Looking fly nakufeel even more uuuuh Oooh, I wonder what I\\\\u2019m gonna do If you ever walk out the door [Chorus: Sauti Sol] Bado we ni yule yule, bado nakufeel baby vile vile Bado we ni yule yule, bado nakufeel baby vile vile Ukiwa mbali nakonda sana, nikikuona nina pagawa Bado we ni yule yule, bado nakufeel baby vile vile Love is a strong thing (strong thing,strong thing) My love is a strong thing (strong thing,strong thing) [Verse 2: Delvin] Tukamaliza campo, nikaanza kuimba Ukapata kajobo (downtown) Tukapatana tao, you were looking very sexy Tukawasha ka vodo, ukawa tipsy kidogo Ukasema unanipenda na huwezi kuniacha Tangu zamani ulinipenda ila hukuweza sema Ukasema unanipenda na huwezi kuniacha Tangu zamani ulinipenda ila hukuweza sema\", \"[Pre Chorus: Bien] Na bado nakuona daily Looking fly nakufeel even more I wonder what I\\\\u2019m gonna do If you ever walk out the door [Chorus: Sauti Sol] Bado we ni yule yule, bado nakufeel baby vile vile Bado we ni yule yule, bado nakufeel baby vile vile Ukiwa mbali nakonda sana, nikikuona nina pagawa Bado we ni yule yule, bado nakufeel baby vile vile Love is a strong thing, strong thing, strong thing My love is a strong thing, strong thing, strong thing [Verse 3: Chimano] Nikaimba lazizi (lazizi wangu we) Nikaimbia polisi (ohhhhhhh) Na nikaimba soma, soma, soma (oh yeah) Na nikasema popote ulipo, mi nakuwaza mama (I\\\\u2019m a, I\\\\u2019m a, I\\\\u2019m a gentleman) (I\\\\u2019m a, I\\\\u2019m a, I\\\\u2019m a gentleman)\", \"[Pre Chorus: Bien] Na bado nakuona daily Looking fly nakufeel even more I wonder what I\\\\u2019m gonna do If you ever walk out the door [Chorus: Sauti Sol] Bado we ni yule yule, bado nakufeel baby vile vile Bado we ni yule yule,bado nakufeel baby vile vile Ukiwa mbali nakonda sana Nikikuona nina pagawa Bado we ni yule yule, bado nakufeel baby vile vile Ulopa ngoma... Pa pa pa pa pa yeah... [Outro] Na sasa uko fifty, bado unakaa fiti Yeah you can gerrit\"], [\"[Intro] Everybody needs somebody To kiss [Verse 1] Adam kissed Eve and the world came to be Romeo kissed Juliet they\\\\u2005went\\\\u2005down in history So\\\\u2005kiss me now oh baby tomorrow\\\\u2005I might be gone Mama kissed papa and so I was born Judas kissed Jesus betrayal was done So kiss me now baby tomorrow I might be gone [Chorus] I might be gone, tomorrow may not be like today And even if I am here I may not taste the same Kiss me now oh baby tomorrow I might be gone [Verse 2] Delilah kissed Samson and cut off his hair Sheba kissed Solomon and wisdom was shared So kiss me now baby tomorrow I might be gone Sinful woman kissed the feet of Christ And David kissed Jonathan and friendship survived Kiss me now baby tomorrow I might be gone [Chorus] I might be gone, tomorrow may not be like today And even if I am here I may not taste the same Kiss me now oh baby tomorrow I might be gone\", \"[Break] Nibusu busu Baby Kesho kesho maybe mi sitakuwepo (Unibusu busu baby) Nibusu busu Baby Kesho kesho maybe mi sitakuwepo (Nibusu busu baby) Nibusu busu Baby Kesho kesho maybe mi sitakuwepo (Unibusu busu baby) Nibusu busu Baby Kesho kesho maybe mi sitakuwepo Kiss me now baby tomorrow I might be gone Come kiss me now baby tomorrow I might Be gone\"], [\"[Verse 1: Delvin] Nakuomba Nerea, usitoe mimba yangu we, Mungu akileta mtoto, analeta saa ni yake , Mlete nitamlea, usitoe mimba yangu we, Mungu akileta mtoto, analeta saa ni yake, [Bien] Huenda akawa Obama, atawale Amerika, Huenda akawa Lupita, Oscar nazo akashinda, [Josh] Huenda akawa Wanyama, acheze soka Uingereza, Huenda akawa Kenyatta, mwanzilishi wa taifa, Nakuomba Nerea, usitoe mimba yangu we, Mungu akileta mtoto, analeta saa ni yake, Mlete aitamlea, usitoe mimba yangu we, Mungu akileta mtoto,  analeta saa ni yake , [Josh] Huenda akawa Maathai, ayalinde mazingira, Huenda akawa Makeba, nyimbo nzuri akatunga, [Chimano] Huenda akawa Nyerere, aongoze Tanzania, Huenda akawa Mandela, mkombozi wa taifa, Nakuomba Nerea, usitoe mimba yangu we, Mungu akileta mtoto, analeta saa ni yake, Mlete aitamlea, usitoe mimba yangu we, Mungu akileta mtoto, analeta saa ni yake, Nakuomba Nerea, Nerea, Nerea, Usitoe mimba yangu, Nerea, Nerea, Nerea Usitoe mimba uangu, Huenda akawa Kagame(Atawale) Jaramogi Odinga(Tuungane) Huenda akawa Tom Mboya Huenda akawa Rudisha, Huenda akawa Malaika, Mungu Ametupatia , Huenda akawa Sauti Sol, Huenda akawa Amos & Josh Huenda akawa Huenda akawa Malaika, Mungu ametupatia..\"], [\"[Chorus] Bwana ni mwokozi wangu Tena ni kiongozi wangu Ananipenda leo kuliko jana Baraka zake hazikwishi Si kama binadamu habadiliki Ananipenda\\\\u2005leo\\\\u2005kuliko jana Kuliko jana Kuliko\\\\u2005jana Yesu nipende leo kuliko jana Kuliko jana Kuliko\\\\u2005jana Yesu nipende leo kuliko jana [Verse 1] Nakuomba Mungu uwasamehe Wangalijua jinsi unavyonipenda mimi wasingenisema Na maadui wangu nawaombea maisha marefu Wazidi kuona ukinibariki Ujue binadamu ni watu wa ajabu sana Walimkana Yesu mara tatu kabla jogoo kuwika Ujue binadamu ni watu wa ajabu sana Walimsulubisha Yesu Messiah bila kusita Ooh, na [Chorus] Bwana ni mwokozi wangu Tena ni kiongozi wangu Ananipenda leo kuliko jana Baraka zake hazikwishi Si kama binadamu habadiliki Ananipenda leo kuliko jana Kuliko jana Kuliko jana Yesu nipende leo kuliko jana Kuliko jana Kuliko jana Yesu nipende leo kuliko jana [Bridge] Wewe ndio nategemea Kufa kupona baba nakutegemea (Amen) Chochote kitanikatsia Kuingia mbinguni utaniondolea (Ooh-ooh, yeah) Wewe ndio nategemea (Amen) Kufa kupona baba nakutegemea (Oh-oh) Chochote kitanikatsia Kuingia mbinguni utaniondolea (Eh, wewe ndio nategemea) Wewe ndio nategemea Kufa kupona baba nakutegemea (Eh, bwana) Chochote kitanikatsia Kuingia mbinguni utaniondolea (Eh, maisha yangu yote) Wewe ndio nategemea (Kwa nguvu zangu zote) Kufa kupona baba nakutegemea (Nakutegemea) Chochote kitanikatsia Kuingia mbinguni utaniondolea (Oh-oh-oh-oh)\", \"[Chorus] Na bwana ni mwokozi wangu Na tena ni mkombozi wangu Ananipenda leo kuliko jana Baraka zake hazikwishi Si kama binadamu habadiliki Ananipenda leo kuliko jana Kuliko jana (Kuliko jana) Kuliko jana Yesu nipende leo kuliko jana Kuliko jana (Kuliko jana) Kuliko jana (Kuliko jana) Yesu nipende leo kuliko jana [Outro] Wewe ndio nategemea (Wewe) Kufa kupona baba nakutegemea (Wewe) Chochote kitanikatsia (Uh-huh) Kuingia mbinguni utaniondolea Wewe ndio nategemea (Ooh) Kufa kupona baba nakutegemea (Nakutegemea) Chochote kitanikatsia Kuingia mbinguni utaniondolea Na bwana ni mwokozi wangu (Amen) Tena ni mkombozi wangu (Amen) Ananipenda leo kuliko jana (Amen) Baraka zake hazikwishi (Amen) Si kama binadamu habadiliki (Amen) Ananipenda leo kuliko jana (Amen) Kuliko jana Kuliko jana Nipende leo kuliko jana\"], [\"Hey, baby, nataka nikupende mama Vile ninavyokupenda nataka unipende Ni mapenzi ya nipe nikupe Darling, nataka nikupende, ie Vile\\\\u2005ninavyokupenda\\\\u2005nataka unipende \\\\u2026 Nimapenzi\\\\u2005ya (nipe nikupe) Nimapenzi ya (nipe nikupe) Nipe\\\\u2005nikupe Nipe nikupe \\\\u2026 Nipe nikupe Nipe nikupe Nipe nikupe \\\\u2026 Unipe nikupe Unipe nikupe Unipe nikupe \\\\u2026 Unipe nikupe Unipe nikupe Unipe nikupe \\\\u2026 Hey, baby Nataka nikupende mama Vile ninavyokupenda nataka unipende Ni mapenzi ya nipe nikupe \\\\u2026 Darling Nataka nikupende, ie \\\\u2026 Vile ninavyokupenda nataka unipende Ni mapenzi ya (nipe nikupe) Nimapenzi ya (nipe nikupe) Nipe nikupe Nipe nikupe \\\\u2026 Nipe nikupe Nipe nikupe Nipe nikupe \\\\u2026 Unipe nikupe Nipe nikupe Nipe nikupe \\\\u2026 Unipe nikupe Nipe nikupe Nipe nikupe \\\\u2026 Hey Baby (my baby, baby, baby, My babe) Nataka nikupende mama (Nataka nikupende mama) Vile ninavyo kupenda nataka unipende (Uuye) Nimapenzi ya nipe nikupe \\\\u2026 Mama maa \\\\u2026 My darling Nataka nikupende, ie (nataka nikupende iee) Vile ninavyokupenda nataka unipende Ni mapenzi ya (nipe nikupe) Nimapenzi ya (nipe nikupe) Nipe nikupe Nipe nikupe \\\\u2026 Nipe nikupe Nipe nikupe Nipe nikupe \\\\u2026 Unipe nikupe Nipe nikupe Nipe nikupe \\\\u2026 Unipe nikupe (nipe) Nipe nikupe (nikupe) Nipe nikupe (Sauti Sol)\"], [\"[Verse 1] Je veux dance mama Ongayo ngayo ngayo ngayo mama Take you downtown to disco Chini kwa chini kiuno You\\\\u2019re my fire my desire nakupenda I wanna see the ladies lose control So turn around give it to me Give it to me, baby, passionately [Hook] Nalingio mama Wamanya ndakhuyanza You\\\\u2019re my fire, my heart desire, nakupenda [Chorus] Shake your bam bam Kwenda sukuma Shake your bam bam Kwenda sukuma Shake your bam bam Kwenda sukuma Shake your bam bam Aaaapo!! Shake your bam bam Kwenda sukuma Shake your bam bam Kwenda sukuma Shake your bam bam Kwenda sukuma Shake your bam bam Aaaapo! [Verse 2] Kaa rada karao anapita, na bash imeshika Drinks zamwagika, kaa rada Samba ni kusamba, samba ni kusamba Ju madame wa mtaa wanapenda chaapaa Na machali wa mtaa wanapenda kuchana Sa unapata mabuda wanasare mamatha Na mamatha wa mtaa wanataka vijana Oh Afrika Afrika nakuombea Watoto wako wasizidi kupotea Urembo wako usizidi kudidimia Oooh yeah!\", \"[Hook] Nalingio mama Wamanya ndakhuyanza You\\\\u2019re my fire, my heart desire, nakupenda [Chorus] Shake your bam bam Kwenda sukuma Shake your bam bam Kwenda sukuma Shake your bam bam Kwenda sukuma Shake your bam bam Aaaapo!! Shake your bam bam Kwenda sukuma Shake your bam bam Kwenda sukuma Shake your bam bam Kwenda sukuma Shake your bam bam Aaaapo! [Musical Interlude] [Chorus] Shake your bam bam Kwenda sukuma Shake your bam bam Kwenda sukuma Shake your bam bam Kwenda sukuma Shake your bam bam Aaaapo!!\", \"[Musical Interlude] [Chorus: (2x)] Shake your bam bam Kwenda sukuma Shake your bam bam Kwenda sukuma Shake your bam bam Kwenda sukuma Shake your bam bam Aaaapo!! Shake your bam bam Kwenda sukuma Shake your bam bam Kwenda sukuma Shake your bam bam Kwenda sukuma Shake your bam bam Aaaapo!\"], [\"Look mommy, I\\'m on TV! Nasiamini tulikofika, ulitafsiri I\\'m here because you pray for me A prayer a\\\\u2005day,\\\\u2005keeps the devil\\\\u2005away Duaniani Team Sauti Sol, ever ready rock\\\\u2005and roll Sol Generation! Our fantasy is the new reality... So relax, ooh, take it easy... Relax, take it easy... It feels good, take it easy... It feels good, take it easy... Relax... Daddy, are you proud of me? Nafanya kazi, usihaibike na mimi Abundantly, umenibariki baba, umenibariki baba Duaniani Team Sauti Sol, ever ready rock and roll Sol Generation! Our fantasy is the new reality... So relax, ooh, take it easy... Relax, take it easy... It feels good, take it easy... It feels good, take it easy... So relax, relax... So relax..., relax... So relax (Sol Generation!)., so relax... So relax (Sol Generation!)..., so relax (Sol Generation!) So relax (Sol Generation!)\"], [\"[Intro: Patoranking] When a good girl gone bad What you gonna do? Run go meet her dad? You don wanna do Well this is Sauti Sol, Patoranking, world best yoh Watch this Love confession [Chorus: Savara and  Patoranking ] She\\\\u2019s a heart breaker She bend over back breaker Steaming hot water vapor I wanna date her She\\\\u2019s a heart breaker She bend over back breaker Steaming hot water vapor I wanna date her So tell me why you do me so? So tell me why you do me so Baby me never let you go oh Girl me nah go let you go So tell me why you do me so? Tell me why you do me so Girl me nah go let you go Swear me nah go let you go [Verse 1: Patoranking] Me spend all me money Spend all me cash Call you me honey but you threw me pon trash Or you think say me go leave you like that (No way) Why you do me like that yay? Girl I\\\\u2019m waiting on you Even if them hating on you But me never send them oh oh [Bridge: Savara] In my life I never seen Melanin so dark You\\\\u2019re a queen of the dance floor Night socialite in the Nairobi scene Would you put me in your diary In my life I never seen Melanin so dark You\\\\u2019re a queen of the dance floor Night socialite in kwa Nairobi scene Would you put me in your diary [Chorus: Sauti Sol and  Patoranking ] She\\\\u2019s a heart breaker She bend over back breaker Steaming hot water vapor I wanna date her She\\\\u2019s a heart breaker She bend over back breaker Steaming hot water vapor I wanna date her So tell me why you do me so? So tell me why you do me so Baby me never let you go oh Girl me nah go let you go So tell me why you do me so? Tell me why you do me so Girl me nah go let you go Swear me nah go let you go\", \"[Verse 2: Chimano] I think I saw you in a magazine Or maybe on TV Lakini up close we ni queen You\\\\u2019re a queen And if you know me well You\\\\u2019ll know I don\\\\u2019t kiss and tell But I want you to myself Baby... [Bridge: Patoranking and Chimano] In my life Me never seen Melanin so dark You\\\\u2019re the queen of the dance floor Night socialite pon di Lagos scene Babee Would you put me in your diary In my life (Yeah) I never seen Melanin so dark You\\\\u2019re the queen of the dance floor Night socialite pon di Lagos scene Babee Would you put me in your diary\", \"[Chorus: Savara and  Patoranking ] She\\\\u2019s a heart breaker She bend over back breaker Steaming hot water vapor I wanna date her She\\\\u2019s a heart breaker She bend over back breaker Steaming hot water vapor I wanna date her So tell me why you do me so? So tell me why you do me so Baby me never let you go oh Girl me nah go let you go So tell me why you do me so? Tell me why you do me so Girl me nah go let you go Swear me nah go let you go [Outro: Bien-Aim\\\\u00e9] In my life I never seen Melanin Body shaking like a tambourine all night Inna mi head you are di melody babee Inna mi head you are di melody In my life I never seen Melanin so dark You\\\\u2019re the queen of the dance floor Night socialite kwa Nairobi scene babee Would you put me in your diary A heart breaker She bend over back breaker Steaming hot water vapor I wanna date yah She\\\\u2019s a heart breaker She bend over her back breaker Steaming hot water vapor I wanna date yah Yeah iye yeah iyeah\"], [\"Hey baby, nimechoka tu kupretend I know I\\'m jumping in the deep end What you doing for the weekend Hey baby, sina noma hii wikendi niko easy I want this turn up to be different I like it when you get into my deep end Juu kelele za matha, landlord na madrama, na kichwani umejaza Mawazo Niko tayari kusurrender na kusema na kutenda ila tu wewe unipe Mkono Baby let\\'s roll out Wanna have a conversation maybe roll one Take you somewhere higher give you more life I\\'ve been really really feeling your flavour sana, girl next door Ooh maybe roll one I\\'ll give you everything you need and more I see say you de like to kick it on the low I know you wanna get a taste of my flavour sana, boy next door All the time you been there love was staring me in my face He\\'s a boy next door when he slowly stole my heart away Baby by the way, I hear say you looking for a sexy girl The kind weh fi take away your fever yea The kind weh fi rub your belly all night long Help me sing it, help me sing sing On the down low I\\'ve been loving eminado tangu enzi za maziwa ya Nyayo Niko tayari kukupenda January to December, hold my hand and don\\'t Let me go now Baby let\\'s roll out Wanna have a conversation maybe roll one Take you somewhere higher give you more life I\\'ve been really really feeling your flavor sana, girl next door Ooh where we roll one I\\'ll give you everything you need and more I see seh you de like to kick it on the low I know you wanna get a taste of my flavour sana, boy next door It\\'s you, I think im\\' falling for you Doing shit I never do I think I\\'m crazy for you Leaving my homies for you Coming home early to you I\\'m going mad over you On the down low I\\'ve been loving eminado tangu enzi za maziwa ya Nyayo Niko tayari kukupenda January to December, hold my hand and dont Let me go now Baby let\\'s roll out Wanna have a conversation maybe roll one Take you somewhere higher give you more life I\\'ve been really really feeling your flavor sana, girl next door Ooh where we roll one I\\'ll give you everything you need and more I see seh you de like to kick it on the low I know you wanna get a taste of my flavour sana, boy next door\"], [\"Intro (Burna): Yea yea yea yea\\\\u2026 Oh yeah yeaaah\\\\u2026 Yeah! BIENAIME: You got it all going on with your body You got it all baby Your papa Uganda your mama Burundi My African star baby na\\\\u2026 Umeumbwa ukaumbika \\\\u2026.yeah Sura, shepu na tabia\\\\u2026 So baby tell me what you\\\\u2019re into\\\\u2026! (Burna: uh) With your fine face and your lips too\\\\u2026! (Burna: eh) Uuh! \\\\u2026 and your hair girl\\\\u2026,! (Burna: oh) Team natural ka misitu (Burna: eh) I wanna graduate (Burna: oh) From a stalker to your lover (Burna: eh) I wanna graduate (Burna: ohh\\\\u2026 oh oh oh oh oh ohhh) BURNA BOY: You got a lot going on with your body You got it all baby That\\\\u2019s why I told you meet me at the lobby At the hotel girl \\\\u2026n you know what\\\\u2019s going down Every time I come round Girl this time imma slow it down Feel like I lost you girl but I had you found So don\\\\u2019t be surprised when a nigga hold you down\", \"So maybe tell me what you\\\\u2019re into \\\\u2026holla! Lemme tell you what i\\\\u2019ve been through\\\\u2026fire! Mad life won\\\\u2019t be simple\\\\u2026for ya! But anything you say I do do do do do\\\\u2026.for ya! CHIMANO: You got it all going on with your body You got it all baby Your papa Nigeria your mama Somali My African star baby na\\\\u2026 Umeumbwa ukaumbika\\\\u2026 (Bien: Sawa sawa\\\\u2026) Sura, shepu na tabia\\\\u2026 (Savara: aah\\\\u2026) SAVARA: And your body shake a na! (\\\\u2026aaaah) \\\\u2026body shake a na! Girl your pretty (\\\\u2026..eeeh) face and your figure eight a na! (\\\\u2026aaaah)\\\\u2026.figure eight a na! You de make (\\\\u2026..eeeh) me craze Natamani kukuona na (\\\\u2026aha!) Walai tutaonana (\\\\u2026aha!) Baby sitakaa sana (\\\\u2026aha!) Make a give you panana na na na na naaa\\\\u2026\", \"Burna Boy: (\\\\u2026Pidgin) Leave money follow sisi oh Miss opportunity oh (\\\\u2026Pidgin) Tha one opportunity Bridge: {Bien, Savara and Chimano: Chelewa! \\\\u2026x3 Burna Boy: \\\\u2026Pidgin x4 {Chelewa! (Burna Boy: \\\\u2026Pidgin.) Sitachelewa! African time baby (Burna Boy: \\\\u2026Pidgin.) Sitachelewa!}\\\\u2026\\\\u2026\\\\u2026..x4 Yeah\\\\u2026 Download Afrikan Girl - Sauti Sol Here\"], [\"[Intro: Khaligraph Jones &  Bien ] I had to find my dreams Despite hizi struggle za behind the scenes (Ayo, wassup!) And mpaka saa hii aki wallahi na-scheme And I would rewind it all if i had a time machine (ha ha ha) I lay the extra when I\\'m in dat zone And right now, y\\'all rocking with who? Sauti Sol, Papa Jones And at the peak is where I aim for (Ayy, you already know!) [Verse 1: Bien] Success is poisonous So many people keep hatin\\' on us Open your eyes to the backstabbers Open your ears to the back biters . So Jah guide us Tulidandia matatu Tukachezwa kwa matatu Ona leo tunachorwa kwa matatu Damu, jasho na machozi tu mwanangu Uliza kiatu! I\\'ve been on the grind So much to do, so little time I\\'m only tryna get  what\\'s mine Before nifike finish line And I\\'m having a good time I hope I get to see you again I hope I get to see you again We\\' ndio lifeline I hope I get to see you again I hope I get to see you again, you know [Chorus 1: Sauti Sol &  Khaligraph Jones ] They never know the story Of us before the glory I\\'ll do it all again I wish we could rewind (rewind) Ayy! I wish we could rewind (rewind) Rewind (rewind) Uh, to the times tuli-hustle mitaa back in the days I wish we could rewind (rewind) Hata before si\\' tukuwe ma-star before the fame I would do it all again!\", \"[Verse 2: Savara] \\\\\"Rewind selektah!\\\\\" Ma-fans wanasema Mouthfull so sweet na wanashindwa tu kutema ([?]) Inabidi tu kumeza Mate machungu tukiwasifu tu ma-hater \\'Cause they can never let us go So inabidi tu-explore Hii situation tu before I-get toxic! Hey, nahitaji ma-good vibes In my lifetime You\\'re my only hope Baby, you\\'re my lifeline Keep you in my zone In a mi\\' lifetime And we can make it all the way [Chorus 2: Sauti Sol &  Khaligraph Jones ] \\'Cause they never know the story Of us before the glory And I\\'ll do it all again I wish we could rewind (rewind) Yay! I wish we could rewind (rewind) Rewind (rewind) Uh, to the times tuli-hustle mitaa back in the days  (Yay! Yay! Yay!) I wish we could rewind Hata before si\\' tukuwe ma-star before the fame I would do it all again!\", \"[Verse 3: Khlaigraph Jones] Ayo, si vibe ziko positive This is something I will live to remember (mambo vipi?) Leo nina feel ka\\' bazenga I\\'m thinking imma stay lit \\'til December Beside me is a shawty ready kuni-kiss nikisema Ka-melanin ngozi rangi chocolata Mi\\' hapo kando jicho nyanya Like a bobo rasta I\\'m hella happy Leo sishiki moto faster Na sijatoa tint, hizi ni effects za cocoa butter! I remember doin\\' shows bila pay I swear it wasn\\'t easy but still I prayed Nikipiga toughees, ma-boyz walipiga J\\'s But now I got a bunch of kicks to give away (ha ha ha) And bro nasiringi Na ma-fan hunipenda hata niki-throw mashilingi But leo, nitatoa thao kama thirty Then later, nitatoa trouser na shati I can even walk naked mi\\' sijali kwani What\\'s there to prove ka\\' unajua mfuko iko hali gani (ha ha ha) Me, I\\'m just living my life And I\\'m hopin\\' we can rewind it So we livin\\' it twice OG! [Outro: Sauti Sol] And they never know the story Of us before the glory And I\\'ll do it all again I wish we could rewind it! And they never know the story Of us before the glory And I\\'ll do it all again I wish we could rewind it!\"], [\"[Verse 1: Bien] I think you fell in love too fast African night and a cool rush And I remember you refused to kiss me And now you using my toothbrush You say you think I talk too much That I\\\\u2019m not your type and you don\\\\u2019t like the hype \\'Cause your daddy is a preacher Now you wearing my t-shirt And I don\\\\u2019t want this night to end Before you know I love you I don\\\\u2019t want this night to end Before you know I need you Na muda usiniishie nikuambie \\'\\'I love you\\'\\' I don\\\\u2019t want this night to end Before you know I need you So I\\'ma keep it [Chorus: Sauti Sol] Short and sweet DJ play this song on repeat Odi odi dance to the beat Hapo ulipo kamata na-feel so sweet Hapo ulipo kamata na-feel so sweet Short and sweet DJ play this song on repeat Odi odi dance to the beat Hapo ulipo kamata na-feel so sweet Hapo ulipo kamata na-feel so sweet [Verse 2: Nyashinski] Yeah, you wanna do the right thing You find this too exciting Your friends tell you, \\\\u201cKu-date mtu ka\\' mimi ni high risk\\\\u201d Throw that shit behind me (Yeah) Come sit beside me If you got too much class, then do me like assignment (Yeah) Please don\\\\u2019t remind me of the bad times Your sugar sweet, you\\'re icy, bad in my eye It shouldn\\\\u2019t be so hard to make up your mind Just do it one time for the one time Huh, itakuwa fair uki-participate Vile nimejitolea ungejua unge-appreciate Lighting intimate One plus 68 Usi-rush hata ukitoka saa hii you\\'ll still be late Tusiache chance ya ku-feel regret How much higher than this can you ever get? Hii ni Mount Everest And by sunrise I\\\\u2019m gone I\\\\u2019m not here that long Keep it\", \"[Chorus: Sauti Sol] Short and sweet DJ play this song on repeat Odi odi dance to the beat Hapo ulipo kamata na-feel so sweet Hapo ulipo kamata na-feel so sweet Short and sweet DJ play this song on repeat Odi odi dance to the beat Hapo ulipo kamata na-feel so sweet Hapo ulipo kamata na-feel so sweet [Verse 3: Savara &  Chimano ] Hii crib ni bedsitter Na sina kiti so utakalia kitanda Na, hii kitanda na ni four by six Usingizi wa pono ka\\' uko six feet deep Kabla nizame six inch deep Acha ni-seti mood na maudi Na ngoma za Kabaka Daudi Na ngoma za Oliver Mtukudzi Can we Getting closer let\\'s get warmer Lose attention be together I know how to treat you better Take this moment unforgettable With this feeling\\'s undeniable Moyo ushajipa kwani Na nafsi imekukubali Nimekimbiza nyuki nile asali Oh, Lord I\\'ma keep it\", \"[Chorus: Sauti Sol] Short and sweet DJ play this song on repeat Odi odi dance to the beat Hapo ulipo kamata na-feel so sweet Hapo ulipo kamata na-feel so sweet Short and sweet DJ play this song on repeat Odi odi dance to the beat Hapo ulipo kamata na-feel so sweet Hapo ulipo kamata na-feel so sweet [Outro: Nyashinski] You wanna do the right thing You find this too exciting Your friends tell you, \\\\u201cKu-date mtu ka\\' mimi ni high risk\\\\u201d Throw that shit behind me Come sit beside me If you got too much class, then do me like assignment\"], [\"[Verse 1: Sauti Sol] Barua Toka Jaramogi na kenyatta Wanauliza kama Kenya kuko sawa Nikawajibu Kenya tuko na disaster Watoto wetu wanazidi kuzikana Na tom mboya ameshika tama Alituacha kama angali kijana Je? angekuwa mambo Yangekua sawa? Ndivyo Alivyopanga maulana Deni Mlizowacha bado tunalipa \\\\u201cTunalipa\\\\u201d Na tumekopa zingine china Tukajenga reli pia barabara Zilizobaki watu wakasanya [Chorus] So Tujiangalie \\\\u201cTujiangalie\\\\u201d Tuko pabaya leo kuliko jana Sikio la kufa halisikii dawa Tuko kwa twitter tuna jibizana Tujiangalie \\\\u201cTujiangalie\\\\u201d Tuko pabaya leo kuliko jana Tusipo ziba ufa tuta jenga kuta Tusake Zetu Tungali vijana\", \"[Verse 2: Sauti Sol] Waumini kwa mathree na passie kwa bimmer Kushoto fungu la kumi Sadaka kulia Ndio maana mbele ya kanisa mheshimiwa Anakula sacramenti Kabla ya raia Siku za mwisho zime shawadia Na revelation inatuambia Hii generation inachoma picha Ni generation yetu [Chorus] Tujiangalie \\\\u201cTujiangalie\\\\u201d Tuko pabaya leo kuliko jana Sikio la kufa halisikii dawa Tuko kwa twitter tuna jibizana Tujiangalie \\\\u201cTujiangalie\\\\u201d Tuko pabaya leo kuliko jana Tusipo ziba ufa tuta jenga kuta Tusake Zetu Tungali vijana [Verse 3: Sauti Sol] Michuki alisema tufungeni mikanda Ona leo twavuna tulicho panda Kura zetu zilitugawanya Makabila na pesa pia tulimanga So when you make your bed oh You lie on it ohh! Usingizi gani tumelala? Tuta jua hatu jui Vision 2030 itabaki ni story\", \"[Chorus] Tujiangalie \\\\u201cTujiangalie\\\\u201d Tuko pabaya leo kuliko jana Sikio la kufa halisikii dawa Tuko kwa twitter tuna jibizana Tujiangalie \\\\u201cTujiangalie\\\\u201d Tuko pabaya leo kuliko jana Tusipo ziba ufa tuta jenga kuta Tusake Zetu Tungali vijana [Verse 4: Nyashinski] Mdosi aliniambia Freedom never comes for free We vote tribe, ama real cash, ask Boni Tuna roho mahali hamwezi Ita gsu plus doggy World mzima twitter Kotndio first body Burn picha si ni waafrika Black coffee \\\\u201cAnnan\\\\u201d I\\\\u2019m richer than my neighbor but we both in the slum If the rich always win then Why should the popular run? Unless democracy ni word si usema Only for fun\", \"[Outro: Nyashinski] Tujiangalie \\\\u201cTujiangalie\\\\u201d Uh, na hii weekend tuko church Tunauza sura kabisa Post ya haga Huenda poa sana na Caption ya scripture Kaa hiyo gospel Pitisha bag ya sadaka kwa club Tujiangalie \\\\u201cTujiangalie\\\\u201d Uh, traffic madrug ubuy ndai Traffic mandai zinadrag Ku admire mwizi amemake it Story za shamba wamegrab Mkono nahonga imevaa Bracelet ya colors za flag\"], [\"We can fall in love again I wanna do it all again King Ckwa, Sauti Sol Just another track You know how we do right Kwetu walishakupenda Kwako nilishasurrender We ain\\'t got no time siku zaenda (siku zaenda) Kwetu walishakupenda Kwako nilishasurrender We ain\\'t got no time siku zaenda (siku zaenda) Se \\\\u00e9 de se amar vamos se amar Se \\\\u00e9 de falar vamos falar N\\\\u00e3o tem porqu\\\\u00ea te largar se no teu body tem bom mambo pra eu tocar E se j\\\\u00e1 n\\\\u00e3o me quer, pra dormir bem, vais querer quem? Se o amor j\\\\u00e1 foi ent\\\\u00e3o foi aonde? Nosso love assim fica aonde? I\\'m on my knees baby please, Ulishanimaliza take it easy Girl you got me missing yo body I hope you ain\\'t kissing nobody Kwetu walishakupenda Kwako nilishasurrender We ain\\'t got no time siku zaenda (siku zaenda) Kwetu walishakupenda Kwako nilishasurrender We ain\\'t got no time siku zaenda (siku zaenda) Se \\\\u00e9 de se amar vamos se amar Se \\\\u00e9 de falar vamos falar N\\\\u00e3o tem porqu\\\\u00ea te largar se no teu peito tem sentimento pra me dar E se j\\\\u00e1 n\\\\u00e3o me quer, pra dormir bem, vais querer quem? Se o amor j\\\\u00e1 foi ent\\\\u00e3o foi aonde? Nosso love assim fica aonde? Mapenzi ya dhati yashatubana Harufu ya muziki ishatuzingira Si quickie siringi dondosa, oya baby come closer Kwetu walishakupenda Kwako nilishasurrender We ain\\'t got no time siku zaenda (siku zaenda) Kwetu walishakupenda Kwako nilishasurrender We ain\\'t got no time siku zaenda (siku zaenda) Siku zaenda Siku zaenda Siku zaenda We can fall in love again I wanna do it all again With you We can fall in love again I wanna do it all again Dance with You Kwetu walishakupenda Kwako nilishasurrender We ain\\'t got no time siku zaenda (siku zaenda) Kwetu walishakupenda Kwako nilishasurrender We ain\\'t got no time siku zaenda (siku zaenda) I\\'m on my knees baby please, Ulishanimaliza take it easy Girl you got me missing yo body I hope you ain\\'t kissing nobody Kwetu walishakupenda Kwako nilishasurrender We ain\\'t got no time siku zaenda (siku zaenda)\"], [\"I see you come to party Banange embozi za malwa dis Party like dis Danz Kumapesa dis Banange embozi za malwa dis Sauti Sol Bebe cool combination dis Onyanya na\\'malwa nga gakukute Ogazanyisa ogazanyisa nga gakukute Osanga nekimama ekyakukudde Okisanga nokiwa akasimbi ekya kukudde And every party like dis We party till morning comes And every party like dis We party till morning comes Batutukayo mubyenda Waiter bwaleta ebyokuywa abasajja bbenda Demu nkyasabba nkileta Waiter bwaleta ebyokuywa abakyala bbenda Zinyuma baba zinyuma (Embozi za malwa) Zinyuma abo\\\\u2019lunganda zinyuma (Mbozi za malwa) Zili ku zili rudi jjanyuma It\\'s such a beautiful woman Zinyuma baba zinyuma (Embozi za malwa) Zinyuma abo\\'lunganda zinyuma (Mbozi za malwa) Zili ku zili rudi jjanyuma It\\\\u2019s such a beautiful woman I see you come to party And you looking for love in wrong all places Sherry eeh ,look my way, look my way Gime mala mala kibeba so Kila wakati nikionda Cho Nani ki zaidika majimbo Nasukululu mukitanda Cho Batutukayo mubyenda Waiter bwaleta ebyokuywa abasajja bbenda Demu nkyasabba nkileta Waiter bwaleta ebyokuywa abakyala bbenda Awooma mbulila? Tokwata kwata noyuza omutima Banange your winner What you mama gave is a killer Zinyuma baba zinyuma (Embozi za malwa) Zinyuma abo\\'lunganda zinyuma (Mbozi za malwa) Zili ku zili rudi jjanyuma It\\'s such a beautiful woman Zinyuma baba zinyuma (Embozi za malwa) Zinyuma abo\\'lunganda zinyuma (Mbozi za malwa) Zili ku zili rudi jjanyuma It\\'s such a beautiful woman Nze nagenda ko n\\'ebaba okusubula E Kochi Twadda mu malwa ne baba Laba bwe batutwala ko akasente kokusubula Kyampisa bubi ne baba And every party like dis We party till morning comes And every party like dis We party till morning comes Gime mala mala kibeba so Kila wakati nikionda Cho Nani ki zaidika majimbo Nasukululu mukitanda Cho Zinyuma baba zinyuma (Embozi za malwa) Zinyuma abo\\'lunganda zinyuma (Mbozi za malwa) Zili ku zili rudi jjanyuma It\\'s such a beautiful woman Zinyuma baba zinyuma (Embozi za malwa) Zinyuma abo\\\\u2019lunganda zinyuma (Mbozi za malwa) Zili ku zili rudi jjanyuma It\\\\u2019s such a beautiful woman Zinyuma hahahaa Embozi za malwa Zinyuma hahahaa Mbozi za malwa Yese Oman Rafiki Mbozi za malwa Mbozi za malwa\"], [], [\"[Intro] Sauti Sol (Sauti Sol) Vee Money on the track Oh [Chorus: Sauti Sol &  Vanessa Mdee ] Leo kama-  kamasutra mama (kamasutra) Kama- kama- kamasutra mama ye, ye, yeyee (kamasutra) Kama- kama-  kamasutra baba  (kamasutra) Kama- kama- kamasutra baba ye, ye , yeyee  (kamasutra) [Verse 1: Vanessa Mdee &  Sauti Sol ] Nitakupa kazi upande mlima, baby, yeah Na siri zangu zote nitatoboa, yeah So many things I want to do to you, my baby, yeah Na siri zako mi\\' sitatoboa, huh [Verse 2: Sauti Sol] Selektah I got something to make you better Like the fire mi\\' napepeta Like the fire mi\\' napepeta, eeh Selektah (selektah) I got something to make you better (better) Like the fire mi\\' napepeta (pepeta) Like the fire mi\\' napepeta (pepeta) [Chorus: Sauti Sol &  Vanessa Mdee ] Leo kama-  kamasutra mama (kamasutra) Kama- kama- kamasutra baby ye, ye, yeyee (kamasutra) Kama- kama-  kamasutra baba, eeh, ooh  (kamasutra) Kama- kama- kamasutra baba ye, ye , yeyee  (kamasutra) [Verse 3: Vanessa Mdee &  Sauti Sol ] Chali wa Nairobi manzi wa [?] Leo ni mahaba nakupatia Rusha washa nari hamjam kare Leo michuano [?] jamila Na si marimari, hii bei kali Cash Madam nakubalika Mboga juu ya meza teleza kimrenda Washa udi na kadhalika Vanessa, I got something to make you wetter Baby, let me kiss it better Like the fire mi\\' napepeta Selektah, I got something to make you rise up Lemme back it up on you Like the fire mi\\' napepeta\", \"Leo kama kamasutra (kamasutra) Kamasutra (kamasutra) Kama- kama- kamasutra (kamasutra) Kamasutra (kamasutra) [Verse 4: Sauti Sol,  Vanessa Mdee, ,  Both ] Mapenzi yake [?] yanimaliza Kiuno kama [?], baby, punguza Tulishakubali wanafunzi, wewe professor wa kamasutra Mapenzi yake [?] pachika (pachika) uno kama [?] , baby, tulia (tulia) Bali wanafunzi mimi professor  (professor) Kamasutra Mizani kama mimi naondoka nawe Napiga mahesabu naondoka nawe [?] kuondoka na wewe (wewe)  (kamasutra} Mizani kama mimi naondoka nawe Napiga mahesabu naondoka nawe Leo kama kamasutra (kamasutra) Kamasutra (kamasutra) Kama- kama- kamasutra (kamasutra) Kamasutra (kamasutra)\"], [], [\"[Intro] (One, two, three) Do what makes you (One, two) [Verse] Do what makes you happy Do what makes you smile Everybody\\'s\\\\u2005judging\\\\u2005anyway You\\\\u2019re only here\\\\u2005for a while Raha usijinyime Drink the very\\\\u2005best wine Everybody\\'s watching anyway You\\'re only here for a while [Outro] Oh, what a night (Oh, what a night) Oh, what a night (Oh, what a night) Hapa ndio mwanzo wa kufika kileleni Oh, what a time (Oh, what a time) To be alive (To be alive) Share your lighter, share your fire\"], [\"[Chorus: Sauti Sol] Steady rocking on the midnight train Steady rocking on the midnight train Oh, Lord, steady rocking on\\\\u2005the\\\\u2005midnight train To Zion,\\\\u2005to Zion [Verse 1: Bien-Aim\\\\u00e9] Hii maisha ni safari, tunapita\\\\u2005kama moshi Na kabla tuzame mchangani, kuna kushinda na kufeli Oh, inabidi\\\\u205fujijue,\\\\u205ftofauti\\\\u205fya mwalimu Na mwanafunzi\\\\u205fni ujuzi na\\\\u205fujuaji [Pre-Chorus 1: Bien-Aim\\\\u00e9] Oh, it\\'s unbelievable that we make it this far Undeniable, we see the promised land from afar And it\\'s so beautiful, no, they can\\'t touch the fire And you know it\\'s not in vain, steady tripping through the pain Oh, yeah [Chorus: Sauti Sol and  Bien-Aim\\\\u00e9 ] Steady rocking on the midnight train Steady rocking on the midnight train  (Oh, Lord, oh, Lord) Oh, Lord, steady rocking on the midnight train  (Steady rocking on the midnight train) To Zion, to Zion  (On the midnight train to Zion) [Verse 2: Savara] Siku zazidi badilika Mengi yazidi kunipita, jamaa Oh, no, maji yalipozidi unga Hawakudhani tutafika, fika [Pre-Chorus 2: Savara] It\\'s unbelievable that we made it this far Undeniable to see the promised land from afar So beautiful, they gon\\' know who we are We keep on walking in the rain, kuna blessings in the pain Woah, woah, woah, woah\", \"[Chorus: Sauti Sol and  Savara ] Steady rocking on the midnight train  (Steady rocking on the train, train, train, train, train, train, train) Steady rocking on the midnight train  (Oh, Lord, oh, Lord) Oh, Lord, steady rocking on the midnight train  (Train, train) To Zion, to Zion  (To Zion, to Zion) [Bridge: Chimano] It\\'s another road to Zion Nothing will ever deny us Whatever it takes, keep on rocking Whatever it takes, keep on moving (To Zion, to Zion, to Zion) Yeah, yeah, yeah, yeah, yeah, yeah [Chorus: Sauti Sol,  Chimano  and  Savara ] Steady rocking on the midnight train Steady rocking on the midnight train  (Ohhhh, woo) Oh, Lord, steady rocking on the midnight train To Zion, to Zion  (To Zion, to Zion) Steady rocking on the midnight train (Steady rocking on the midnight train) Steady rocking on the midnight train Oh, Lord, steady rocking on the midnight train To Zion, to Zion  (To Zion)\"], [\"[Verse 1: Bien-Aim\\\\u00e9] She\\'s so insecure, she don\\\\u2019t make love with the lights on So insecure, she don\\\\u2019t wanna\\\\u2005talk\\\\u2005about it, no And\\\\u2005I\\'m so insecure one day she\\'ll\\\\u2005leave me And she\\'ll find another guy who makes her happier\\\\u205fthan\\\\u205fI [Pre-Chorus 1: Bien-Aim\\\\u00e9] Juu\\\\u205fnikiwa maji, mi\\\\u205fni chizi Mi ni\\\\u205fstalker, naku-halla When you\\'re naked, I see angels And I hope you see the same [Chorus: Bien-Aim\\\\u00e9] You\\\\u2019re insecure (Eeeh) Woah, I\\\\u2019m insecure (Aaah) Oh, baby, you\\\\u2019re so insecure (Eeeh) Yeah, I\\\\u2019m insecure (Aaah) [Verse 2: Savara] I\\'m so insecure, mi husomanga message ukiniachia phone I\\'m so insecure, I\\'m never telling you about it Yeah, mi huenda swimo na t-sho And you never leave your house with no make-up on But let\\'s not talk about it, yeah, yeah [Pre-Chorus 2: Savara] Chini ya maji, si ni machizi Twachunguzana kipolisi And your body is a movie And I hope you feel the same [Chorus: Savara] But you\\\\u2019re insecure (Eeeh) Woman, you\\\\u2019re insecure (Aaah) Woman, you\\\\u2019re insecure (Eeeh) And I\\\\u2019m insecure (Aaah) [Verse 3: Chimano] Why are we still so insecure? Don\\\\u2019t know what we\\'re running from And I\\'m breaking, but before we crash and burn Hope we see the light I hope we see the light\", \"[Pre-Chorus 2: Lisa Oduor and Xenia Manasseh] Chini ya maji, si ni machizi Twachunguzana kipolisi And your body is a movie And I hope you feel the same Chini ya maji, si ni machizi Twachunguzana kipolisi And your body is a movie And I hope you feel the same [Chorus: Chimano] I\\'m insecure (Eeeh) You\\'re insecure (Aaah) I\\'m insecure (Eeeh) You\\'re insecure (Aaah)\"], [\"[Verse 1: Chimano] She says she\\'s okay I don\\'t believe her There\\'s just something \\'bout the way She turned her back\\\\u2005on\\\\u2005me I know, in\\\\u2005my mind I\\'ll never leave her There\\'s just\\\\u2005something \\'bout the way We love each other right [Pre-Chorus: Chimano] And even though\\\\u205fwe\\\\u205ffight\\\\u205fall night and\\\\u205fday I know sometimes\\\\u205fin love there can be pain And even though we need a little break I know that you\\'ll come back to me You know that I\\'ll come back to you \\'Cause that\\'s when you start to feel my love [Chorus: Chimano] Feel it, that\\'s when you feel it That\\'s when you start to feel my love Feel it, that\\'s when you feel it [Interlude: Savara] Na, na, na, na Na, na, na, na Na, na, na, na (Na, na, na)\", \"[Verse 2: Savara] Mmh, usiponipenda, nitapendwa na nani? Nitakuwa mgeni wa nani? Ukiwa mbali nami nabaki taabani Mbona nahisi kisirani, yawa? Haina maana, mi na wewe kuzozana Mbona tunasimangana? Hatuwezi semezana, my love Haina maana, mi na wewe kuzozana Mbona tunasimangana? Hatuwezi semezana, na [Pre-Chorus: Savara,  Bien-Aim\\\\u00e9 ,  Savara and Bien-Aim\\\\u00e9 ] And even though we fight all night and day I know sometimes in love there can be pain And even though we need a little break  (Even though we need a little break) I know that you\\'ll come back to me And you know  that I\\'ll come back to you \\'Cause that\\'s when you start to feel my love [Chorus: Savara and  Bien-Aim\\\\u00e9 ] Feel it, that\\'s when you feel it That\\'s when you start to feel my love Feel it, that\\'s when you feel it  (Ohh, that\\'s when you feel it) [Outro: Bien-Aim\\\\u00e9] And even if we fight all night and day I know sometimes in love there can be pain And even if we need a little break I know that you\\'ll come back to me You know that I\\'ll come back to you And that\\'s when you start to feel my love\"], [\"[Chorus: Bien-Aim\\\\u00e9] \\'Cause I\\'m certain brighter days are yet to come Ain\\'t no question that tomorrow there\\'ll be\\\\u2005good\\\\u2005times (Good times) I\\\\u2005believe with every beat of my\\\\u2005heart \\'Cause I\\'m certain brighter days are yet to come Ain\\'t no question that tomorrow there\\'ll be good times (Good times) I believe with every beat of my heart [Verse 1: Savara] Yeah, yeah, yeah I\\'m on a one-way train Tenda mema, nenda zangu, do my best Saa zingine huwanga ni noma (Huwanga ni noma) Imani yangu inanichoma but I know there\\'ll be a better day, yeah I\\'m living on the edge, sijui nitashukia kwa gani stage Life inanisunda kwa corner (Sunda kwa corner) Emotionally, niko kwa border I pray, I pray for better days, mmh [Chorus: Bien-Aim\\\\u00e9] \\'Cause I\\'m certain brighter days are yet to come Ain\\'t no question that tomorrow there\\'ll be good times (Good times) I believe with every beat of my heart \\'Cause I\\'m certain brighter days are yet to come Ain\\'t no question that tomorrow there\\'ll be good times (Good times) I believe with every beat of my heart [Verse 2: Chimano] Siku zikizidi, nazidi makinika zaidi I\\'m holding on a little bit longer (A little bit longer) What doesn\\'t kill you makes you stronger I see, I see a better day (Ngiyabona) Visions of love from up above, the sun is not too far away Nawasha taa, naona far, I know I will be okay Reach for the stars with everything in my heart I know, I know, I know, I know [Chorus: Bien-Aim\\\\u00e9] \\'Cause I\\'m certain brighter days are yet to come Ain\\'t no question that tomorrow there\\'ll be good times (Good times) Oh, oh, oh, I believe with every beat of my heart, yeah [Bridge: Savara and  Bien-Aim\\\\u00e9 ] There\\'s gonna be days like this (Kulezi zinsuku) We need to be stronger (Qina) Misukosuko na mahangaiko Ni hali ya dunia, Mungu yupo And on days like this (Days like this) We need to rise up (Rise up) Wakijaribu kutuzika tuta-germinate Our lives will never be the same, ohh\", \"[Outro: Soweto Gospel Choir] (Ngiyakholwa, ngiyakholwa) Yebo, yebo ngiyakholwa (Ngiyakholwa, ngiyakholwa) Woo, yeah Woah, woah, woah, yeah (I believe with every beat of my heart) I believe, woo, I believe (I believe with every beat of my heart) Yeeeah\"], [\"[Intro: Savara] Ohh, na, na, na, na, na [Verse 1: Savara] Umetuma wazazi wako waje wanielezee Umetuma wazazi wako waje wanielezee Hunitaki tena,\\\\u2005na\\\\u2005mashoga zako waje\\\\u2005waniambie Na mashoga zako waje waniambie Ndoa tumeivunja [Pre-Chorus 1: Savara] Siamini\\\\u2005kuna time singeishi bila wewe Mapenzi ya kukata na shoka, eh,\\\\u205feh Yashamwagika,\\\\u205fhayazoleki\\\\u205fhaya, oh Basi nenda\\\\u205flote, mama Nenda lote,\\\\u205fmama [Chorus: Sauti Sol] Mpenzi, unaenda Nilikuenzi kinomanoma Yashamwagika, hayazoleki haya, oh Nenda lote, mama [Verse 2: Chimano] Ukatuma lawyer wako aje anisomee Ukatuma lawyer wako aje anisomee Kuwa watoto ulionizalia, eh, eh Kuwa watoto ulionizalia, eh, eh Sitawaona tena Uhh [Pre-Chorus 2: Chimano] Siamini kuna time tuliapa hadharani Kanisani kwa chanda na pete, eh Yashamwagika, hayazoleki haya, oh Nenda lote, mama Nenda lote, mama [Chorus: Sauti Sol] Mpenzi, unaenda Nilikuenzi kinomanoma Yashamwagika, hayazoleki haya, oh Nenda lote, mama\", \"[Verse 3: Bien-Aim\\\\u00e9] Ukatuma pastor wako aje anikemee Ukatuma pastor wako aje anikemee, mama Na madeni zangu ukazitangaza, eh (Ukazitangaza, eh) Na madeni zangu ukazitangaza, eh Mitandaoni, oh (Mitandaoni, oh, eh) [Pre-Chorus 3: Bien-Aim\\\\u00e9] Shemeji zangu, ndugu zako, tukionana Waambie sisi bado rafiki, eh, eh Wasinipite barabarani, mama, oh Umeenda lote, mama Umeenda lote, mama [Chorus: Sauti Sol and  Bien-Aim\\\\u00e9 ] Mpenzi, unaenda  (Mpenzi, oh, baby) Nilikuenzi kinomanoma   (Oh, jana, no, no) Yashamwagika, hayazoleki haya, oh Basi nenda lote, mama Nenda lote, mama Mpenzi, unaenda  (Mpenzi, eh) Nilikuenzi kinomanoma  (Eh, yeh, yeh, yeh, yeh, yeh, yeh) Yashamwagika, hayazoleki haya, oh  (Hayazoleki haya, oh) Nenda lote, mama  (Mama, mama) Nenda lote, mama\"], [\"[Verse 1: Bien-Aim\\\\u00e9] Oh, Suzanna, I hope you\\'re happy now I see you flexing on the gram with your\\\\u2005sponsor Suzanna,\\\\u2005I hope you\\'re\\\\u2005happy now I see you change your\\\\u2005skin color And your hair is longer now [Pre-Chorus: Bien-Aim\\\\u00e9] Nakuona Paris, hapo kando\\\\u205fya\\\\u205fChamps-\\\\u00c9lys\\\\u00e9es Ukitesa\\\\u205fna ka-mini, ye-ye-ye-ye-ye,\\\\u205fnone of my\\\\u205fbusiness And I see you in London, silicone on your bum-bum Shaking what your doctor gave ya On your worst behaviour [Chorus: Bien-Aim\\\\u00e9 and  Savara ] Suzanna bhane, oh, no, no Senje, hallo hallo hallo  (Hallo hallo hallo) If you get to hear this song, somebody loves you Suzanna bhane Senje, hallo hallo hallo  (Hallo hallo hallo) Change your mind and come back home, somebody loves you (Hmm, Suzanna Na-na-na-na-na-na-na-na-na) [Verse 2: Savara] Mwanamke tabia, shepu ni majaliwa Ila wengi walinyimwa tabia, na shepu kabarikiwa Mwanaume hisia, pesa ni majaliwa Ila wengi walinyimwa hisia, na pesa kabarikiwa [Pre-Chorus: Savara] Nakuona Brazil, hapo Rio de Janeiro, eh Ukiongezewa nywele, senje, none of my business And I see you in China with the latest designer Shaking what your doctor gave ya On your worst behaviour [Chorus: Savara and  Bien-Aim\\\\u00e9 ] Suzanna bhane Senje, hallo hallo hallo  (Hallo, hallo) If you get to hear this song, somebody loves you Suzanna bhane Senje, hallo hallo hallo  (Hallo) Change your mind and come back home, somebody loves you\", \"[Verse 3: Chimano] Ai senje, nakosa usingizi, usiku kucha mi naduwaa Ai senje, akilini, moyoni, bado we wanizuzua When are you coming home, senje? Tell me, are you on your way? Tufe tukipendana ki-Romeo na Julia Ai senje, nakosa usingizi, usiku kucha mi naduwaa Ai senje, akilini, moyoni, bado we wanizuzua When are you coming home, senje? Tell me, are you on your way? Tufe tukipendana ki-Romeo na Julia [Outro: Chimano,  Bien-Aim\\\\u00e9 and Savara ] Ai senje bhane Senje, hallo hallo hallo  (Hallo hallo hallo) If you get to hear this song, somebody loves you  (Senje come home, oh) Senje, hallo hallo hallo Change your mind and come back home, somebody loves you\"], [], [\"[Chorus 1: Sauti Sol] Every girl deserves to feel like a star And I know you are, I know you\\\\u2005are Every\\\\u2005girl deserves to\\\\u2005feel like a star And I know\\\\u2005you are, I know you are [Verse 1: Bien-Aim\\\\u00e9] I knew you were when I met you Nilitamani nikupeleke kwetu Good vibes and I\\'m grateful Hapa nitapanda mbegu You deserve to feel things you never felt before Love you like I never did before, ooh You don\\'t know what\\'s in store for you Melanin and so much more [Pre-Chorus 1: Sauti Sol and  Bien-Aim\\\\u00e9 ] Heavy is your crown  (Heavy is your crown) The way you hold me down  (The way you hold me down) I hope I never let you down, my love [Chorus 1: Sauti Sol and  Bien-Aim\\\\u00e9 ] Every girl deserves to feel like a star And I know you are, I know you are  (I know you are) Every girl deserves to feel like a star  (Every girl deserves to feel like a star) And I know you are, I know you are  (I know you are) [Verse 2: India.Arie] I knew you were when I met you That one day, I would be able to say yes to you Good vibes and I\\'m grateful It\\'s obvious to me that you\\'re special I\\'m ready to give like I never did before Love you like it\\'s an open door You don\\'t know what\\'s in store for you Melanin and so much more for you [Pre-Chorus 2: India.Arie] Heavy is your crown And still you hold me down I ain\\'t gon\\' ever let you down, my love\", \"[Chorus 2: India.Arie] Every man deserves to feel like a king You\\'re my everything, you\\'re my everything Every man deserves to feel like a king (Every man deserves to feel like a king) You\\'re my everything, you\\'re my everything (You\\'re my everything, you\\'re my everything) [Bridge: Sauti Sol and  India.Arie ] Mukhana wamanya inzi ndakhuyanza-nza-nza-nza  (Ahh, eh) Na ndakhuyanzanga  (Ahh, eh) Nakhuha shindu shiosi showenyanga-nga-nga-nga  (Ahh, eh) Ni showenyanga-nga  (Ahh, eh) Mukhana wamanya inzi ndakhuyanza-nza-nza-nza  (Ahh, eh) Na ndakhuyanzanga  (Ahh, eh) Nakhuha shindu shiosi showenyanga-nga-nga-nga  (Ahh, eh) [Chorus 3: Bien-Aim\\\\u00e9,  India.Arie  and  Chimano ] Every girl deserves to feel like a star (Every girl deserves to feel like a star) And I know you are, I know you are Every man deserves to feel like a king (Every man deserves to feel like a king) You\\'re my everything, you\\'re my everything   (Your everything, your everything) [Outro: Sauti Sol,  India.Arie  and  Savara ] Mukhana wamanya inzi ndakhuyanza-nza-nza-nza  (Ahh, eh) Na ndakhuyanzanga  (Ooh, oh) Nakhuha shindu shiosi showenyanga-nga-nga-nga  (Ahh, eh) Ni showenyanga-nga  (Every man deserves to feel like a king) Mukhana wamanya inzi ndakhuyanza-nza-nza-nza Na ndakhuyanzanga  (You\\'re my everything) Nakhuha shindu shiosi showenyanga-nga-nga-nga   (My everything) Ni showenyanga-nga  (Ni showenyanga-nga)\"], [\"[Intro: Savara] (Na, na, na, na, na, na, na) (Na, na, na, na, na, na, na) [Verse 1: Savara] Put my feet\\\\u2005in\\\\u2005the water, these\\\\u2005are the days we used to\\\\u2005pray for You\\'re all I have, you\\'re everything I have to\\\\u205flive\\\\u205ffor Oh,\\\\u205fthis is heaven,\\\\u205fsometimes we forget\\\\u205fto be grateful I count my blessings, you are my blessing [Pre-Chorus: Savara] You could have been anywhere in the world, but you\\'re here with me Let\\'s live it all tonight, juu kesho si guarantee Eh, life has no warranty Are you ready? Oh (I\\'m ready) Are you ready now, now, now? Oh [Chorus: Sauti Sol] Are you willing? Are you ready? Willing? Are you ready? Willing? Are you ready? Willing, willing Are you willing? Are you ready? Willing? Are you ready? Willing? Are you ready? (Willing, willing) [Interlude: Savara] (Na, na, na, na, na, na, na) (Na, na, na, na, na, na, na) [Verse 2: Mortimer] I\\'ll give my soul for the gardening A piece of me is my offering Got to swim when you\\'ve been thrown into deepest ends, pay attention, listen This is how you achieve direction, live it how you imagine it Play with the fire a little bit, it never burns when we\\'re used to it Sometimes we all wanna fly away But there\\'ll be times when we need to stay [Chorus: Sauti Sol and  Mortimer ] Are you willing? Are you ready? Willing? Are you ready?  (Willing? Are you ready?) Willing? Are you ready?  (Willing? Are you?) Willing, willing  (Willing? Are you ready?) Are you willing? Are you ready? Willing? Are you ready? Willing? Are you ready? (Willing, willing)\", \"[Verse 3: Mortimer] No better place than the mountains, peace and quiet Whispers are flowing, river, I can hear Sounds of the wind of soul \\'cause kneeling giants Life has a way of showing (sense of humour) [Bridge: Chimano and  Mortimer ] Let love and soul transpire Give thanks, embrace your fire All glory to Messiah Follow your heart, don\\'t tire Want to be loved, want to feel love (Ahh)  Want to be loved, want to feel love So tell me, are you ready? [Chorus: Sauti Sol and  Chimano ] Are you willing? Are you ready?  (Yeh, eh, eh, eh) Willing? Are you ready?  (Willing? Are you ready? Are you ready? Are you ready? Are you ready?) Willing? Are you ready? Willing, willing Are you willing? Are you ready?  (Ready, ready) Willing? Are you ready?  (Willing? Are you ready?) Willing? Are you ready?  (Willing? Are you ready?) [Outro: Chimano and  Savara ] (Na, na, na, na, na, na, na) (Na, na, na, na, na, na, na) Woo! Uh, woo, na, na, na, na, na, na, na  (Na, na, na, na, na, na, na) Na, na, na, na, na, na, na  (Na, na, na, na, na, na, na) (Na, na, na, na, na, na, na) Na, na, na, na, na, na, na  (Na, na, na, na, na, na, na)\"], [\"[Verse 1: Bien-Aim\\\\u00e9] When I get sober, I\\'ll get my act together I will put my life in order No\\\\u2005longer\\\\u2005be a victim\\\\u2005of the devil on my shoulder Lord\\\\u2005knows I\\'ve been lost for way too long, I\\'m getting\\\\u205folder Na\\\\u205fmuda\\\\u205funayoyoma, aisee [Refrain: Sauti Sol] (Niko maji,\\\\u205fniko maji, niko\\\\u205fmaji, niko maji) (Niko maji, niko maji, niko maji, niko maji) [Verse 2: Savara] Mmh Call my mama (My mama) And tell her that I\\'m sorry for the lies and pain I\\'ve caused her And tell her that I never meant to turn out like my father (My father) Lord knows that she cried too many tears for all my drama Naomba unisamehe, mathe [Refrain: Sauti Sol and  Savara ] (Niko maji, niko maji, niko maji, niko maji) Yeah, yeah, yeah, mmh (Niko maji, niko maji, niko maji, niko maji) [Verse 3: Chimano] I call my daughter Listen to the stories of a guy that she called father Hope I get the courage to say sorry to her mother Lord knows that she tried to make it work, I pray the karma The karma will be easy on me [Refrain: Sauti Sol and  Chimano ] (Niko maji, niko maji, niko maji, niko maji) Ohh (Niko maji, niko maji, niko maji, niko maji) Ohh, ohh\", \"[Verse 4: Sauti Sol] When I get sober I\\'ll look for all my friends and make amends, I drink more water Find somebody new to love again, feels like it\\'s over But Lord knows that I need another chance to start all over Na Misri sirudi kamwe [Verse 5: Bien-Aim\\\\u00e9] When I get sober, I\\'ll get my act together I will put my life in order No longer be a victim of the devil on my shoulder Lord knows I\\'ve been lost for way too long, I\\'m getting older Na muda unayoyoma, aisee [Outro: Sauti Sol and  Savara ] (Niko maji, niko maji, niko maji, niko maji) (Niko maji, niko maji, niko maji, niko maji) (Niko maji, niko maji, niko maji, niko maji) Yeah, yeah, yeah, mmh (Niko maji, niko maji, niko maji, niko maji)\"], [\"[Intro: Wuod Omollo] Ooh, ooooh Ooh, ooooh Ooh, ooooh Ooh, ooooh [Verse 1: Kaskazini] Kuna rhumba ya Juja, na ni ya ma-boy Ukisaka mitumba, nenda rhumba\\\\u2005ya\\\\u2005Toi Kuna rhumba ya\\\\u2005Kibich, utajua hujui Kuna rhumba for all\\\\u2005you niggas, ila rhumba Japani Ndio rhumba [Verse 2: Bensoul] Kuna rhumba ya State House, iko chini ya maji (Yeah, okay) Kuna rhumba ya bunge, yeah, ya majambazi (Yo, yo) Ukileta ujinga, utalala ndani (Wueh!) Kuna rhumba for all you niggas, lakini rhumba Japani Ndio rhumba [Chorus 1: Sauti Sol, Kaskazini and  Bensoul ] Hapa ni wapi?  (Ni wapi?) Tumezungukwa na shisha na shashamani  (Oh, no, no) Mapochopocho na vinywaji mbalimbali Wengine wanatapika wakizirai  (Wakizirai, yeah) Hapa ni wapi?  (Sol Generation) Wanatutwanga mapicha, ni paparazzi  (Oh, no, no) Tumezungukwa na warembo geti kali Tunazitoka na style za kizamani [Post-Chorus: Bensoul] Ah! Ah Zoom! Skrr! skrr! [Verse 3: Xenia Manasseh] Kuna rhumba ya Westie, ya mabeshte Kwa mashinani, sheki your waisti Rhumba ni nyepesi, isikuwe kesi Kuna rhumba for all my niggas, ila rhumba Japani Ndio rhumba\", \"[Verse 4: Nviiri the Storyteller] Kuna rhumba Karura, ya kupanda miti Ukiwa Koinange, hakunanga risiti, eh, ai Rhumba Oyole, hiyo ni ya mangwati To all of my hoes and all of my niggas, rhumba Japani Ndio rhumba, ohh [Chorus 2: Sauti Sol, Kaskazini and  Xenia Manasseh ] Hapa ni wapi? Tumezungukwa na ma-bouncer na machuani Kuna mapedi, mapoko, pia mapinji  (Eh, eh, yeah, eh) Na wanaseti michele kwenye vinywaji  (Kwenye vinywaji) Hapa ni wapi? Kuna visanga, vioja mahakamani  (Vioja mahakamani) Wapenzi wapigana mate hadharani  (Oh, ohh, oh, oh) Wengine wanatekana nyuma ya taxi  (Nyuma ya taxi) [Post-Chorus: Bensoul] Zoom! Skrr! skrr! [Verse 5: Okello Max and  Bensoul ] Nitie rhumba obunga, mano mar jothurwa  (Ah, zoom!) To kidwa bilo mbuta, rieri yo manyatta  (Okay! Yeba!) Yawuoi orwaka akala, to nyiwa ondiso avunja   (Skrr! skrr! Avunja!) Kuna rhumba for all you niggas, lakini rhumba Japani Ndio rhumba, ahh\", \"[Interlude: Bien-Aim\\\\u00e9 and  Chris Kiomo ] Ahh Sol Generation, you know Hii shit imeniweka zone, inatamba Ahh [Chorus 3: Sauti Sol and Kaskazini] Hapa ni wapi? Waheshimiwa wako nje kwa foleni Na raia wako ndani, wajivinjari Wanazitoka na style, ni za kiodi Hapa ni wapi? Ma-watchie wote wameleta utiaji Wakafungia wakubwa nje ya party Wakawachia ofisi wafanyikazi\"], [], [], [], [\"[Chorus: Sauti Sol] Ayeee, rhumba imetamba Sauti Sol inna di area, kumechacha Karibuni kwenye extravaganza Bensoul alipofika, alifunika, eeeh [Verse 1: Bensoul] Wakaja na ma-drama Sinema zetu ni telenovela, eeeh Wakasunda mizinga Hawakujua si tuko mavela, yeeh Wakaita polisi Kumbe polisi pia ni shabiki, eeeh Wakaficha msosi Wakatupata na dishi mezani, yeeh [Chorus: Sauti Sol and  Bensoul ] Ayeee, rhumba imetamba Sauti Sol inna di area, kumechacha  (Kila kona, yo, yo) Karibuni kwenye extravaganza Na Nviiri alipofika, alifunika, eeeh [Verse 2: Nviiri the Storyteller] Walifunga milango Wakatupata tuko ndani nao (Uh) Wakaita makanjo Kumbe ni sisi huwalipa salo, wo-wo (Wo-wo) Wakazima mitambo Shabiki wakabaki kwenye dance floor Na iwe funzo kwao (Uh) Tunaongoza, wanafuata nyayo, yo\", \"[Chorus: Sauti Sol] Ayeee, rhumba imetamba Sauti Sol inna di area, kumechacha Karibuni kwenye extravaganza Na Crystal alipofika, alifunika, eeeh [Verse 3: Crystal Asige] Wakaja na umati Wakageuka kuwa wafuasi (Eeeh) Wakaja na majini Wakapata tushazama kwa dini (Oh, oh, oh, oh) Nywele za kifarasi Lakini si ni moto ya makasi (Oooh) Risasi, mwendo kasi Dandieni msiwachwe na basi, eeeh [Chorus: Sauti Sol and  Crystal Asige ] Ayeee, rhumba imetamba Sauti Sol inna di area, kumechacha  (Kila kona, oh) Karibuni kwenye extravaganza Kaskazini walipofika, walifunika, eeeh [Verse 4: Chris Kiomo,  Israel Onyach  and  Eugene Ywaya ] Wakaenda kusini Wakajipata wako kaskazini, eeeh Wakaja na magigi Lakini si tukaja na mziki, eeeh Woah, woah, woah, yeah, yeah, yeah Hata wazime taa, tutazidi ku-party Woah, woah, woah, yeah, yeah, yeah Hizi vitu hazitakangi utiaji Na wakiapisha (Tunaapisha) Na wakifunika (Tunafunua) Eh, wakianika (Tunaanua) Na wakisafisha (Tunachafua)\", \"[Chorus: Sauti Sol] Ayeee, rhumba imetamba (Mama yo-yo-yo) Sauti Sol inna di area, kumechacha (Kila kona) Karibuni kwenye extravaganza Karibuni kwenye extravaganza Ayeee, rhumba imetamba Sauti Sol inna di area, kumechacha Karibuni kwenye extravaganza Karibuni kwenye extravaganza [Outro: Savara and  Bien-Aim\\\\u00e9 ] Why you looking for trouble, trouble, trouble? Hapana rusha mawe kwa police station Kabla uwashe kivela, cheki situation Hapana shusha bendera kwa chifu Why you looking for trouble, trouble, trouble? Bibi ya wenyewe is a no-go zone Kabla ukute vitu, piga protection Nairobi, mwizi, utageuzwa jivu Why you looking for trouble, trouble, trouble? Hapana rusha mawe kwa police station Kabla uwashe kivela, cheki situation Hapana shusha bendera kwa chifu Why you looking for trouble, trouble, trouble? Bibi ya wenyewe is a no-go zone Kabla ukute vitu, piga protection Nairobi, mwizi, utageuzwa jivu\"], [\"[Intro] Lil mama (Lil mama) [Chorus: Savara] How long should I wait for your love lil\\' mama? Tell me, are you coming back home in the summer? You might just find I have moved on lil\\' mama How long\\\\u205fshould\\\\u205fI\\\\u205fwait for your\\\\u205flove lil\\' mama? [Verse 1: Savara] How\\\\u205flong should I live for myself lil\\' mama? Nimengoja sana baby, na sitawacha I might just find another, lil\\' mama How long should I wait for your love lil\\' mama? Ah-ah-ah lil\\' mama Ah-ah-ah [Verse 2: Chimano] Vitu huisha, you gon\\' looking for love, and finding the one and suddenly imeisha, suddenly imeisha Hali ya maisha, imagine living your life and never finding the one na saa hio time inaisha But we both know it\\'s better this way Manifesting, single and searching, like a virgin, nobody touching Manifesting, single and searching, like a virgin, nobody touching [Chorus: Savara] How long should I live for myself lil\\' mama? Nimengoja sana baby, na sitawacha I might just find another, lil\\' mama How long should I wait for your love lil\\' mama? Ah-ah-ah lil\\' mama Ah-ah-ah [Verse 3: Bien-Aim\\\\u00e9] Sometimes money go, gets into the way Mwendo ukiwa kasi Kazi ya likizo, usinifanishe, wacha sarakasi I feel some type of way when I call you and you don\\'t answer I feel some type of way na sipendi kubebwa ufala Loosing my mind, when I see you with your new guy See you online, but you don\\'t wanna reply Loosing my mind, when I see you with your new guy (New guy) Rudi online, don\\'t wanna say goodbye\", \"[Chorus: Savara] How long should I live for myself lil\\' mama? Nimengoja sana baby, na sitawacha I might just find another, lil\\' mama How long should I wait for your love lil\\' mama? Ah-ah-ah lil\\' mama Ah-ah-ah How long should I wait for your love lil\\' mama? Ah-ah-ah little mama, lil\\' mama, in the summer [Outro: Bien-Aim\\\\u00e9] Whose side, are you on? Who\\'s gon\\' keep you nice and warm when I\\'m gone? Whose side, are you on? Who\\'s gon\\' keep you nice and warm when I\\'m gone?\"], [\"[Intro] Do you love me baby Do you love my money Sauti Sol, Mwana Buja [Verse 1 - Bien-Aime Baraza] Kuna watu wa aina nyingi duniani Kuna watu funny funny Na kabla sijatamba kwenye fun Sikuishi na amani Nilikesha na maombi Nikiomba Mungu anipe nafasi Nikaanza kuimba... hey Mabinti wanisaka.hey Huku nakule wanichangamkia yea yea [Pre-Chorus] Heri ulie kwenye range rover Ama ucheke kwenye boda boda Ukose usingizi runda Masaibu yanakufuata [Chorus] Do you love me, baby Do you love my money Unanipenda baby (do you love my money) Na benz sio mapenzi (do you love my money) [Verse 2 - Savara Mudigi] Do you believe in expensive cars Do you wanna play with my heart Do you b\\\\u0435lieve in love or mon\\\\u0435y or money plus love Remember the promise at the altar That you are gonna love me for sure Unconditional loving for richer for poor\", \"[Pre-Chorus] Heri ulie kwenye range rover Ama ucheke kwenye boda boda Ukose usingizi runda Masaibu yanakufuata [Chorus] Do you love me baby Do you love my money Unanipenda baby? (Do you love my money) Na benz sio mapenzi (Do you love my money) Do you love me baby Do you love my money Unanipenda baby? (Do you love my money) Na benz sio mapenzi(Do you love my money) Pesa ni maua oooh tena inapendeza Pesa inaua oooh itakumalizaHeri ulie kwenye range rover Ama ucheke kwenye boda boda Ukose usingizi runda Masaibu yanakufuata Do you love me baby Do you love my moneyUnanipenda baby(do you love my money) Mabenz sio mapenzi(do you love my money) Do you love me baby Do you love my moneyUnanipenda baby(do you love my money) Na benz sio mapenzi(do you love my money)\"], [], [], [], [\"[Verse 1: Bien-Aim\\\\u00e9] We all need love We all need affection And the way that you\\'re looking at me I can feel a connection Unanibamba baby, kwanza unavyochekecha Kinywaji kwa mkono, na kibeti kwa bega [Verse 2: Savara] Juu sikuizi madem wanapenda doh Na machali pia tunazo drama Ya dunia ni mengi sana, no commitiment mama So nipe nafasi Nikupe mapenzi yangu ya kiluhya Hallelujah [Chorus] We all need love Nakupenda Tena nina imani sana Ushanitega, ushanitega We all need someone Nakupenda Tena nina imani sana Ushanitega, ushanitega So make love to me Unconditionally bae, unconditionally bae Make love to me Unconditionally bae, unconditionally bae [Verse 3: Alikiba] We all need love Me I need a wife, wa kuishi na yeye Fuata vijana utakufa mapema magonjwa yamejaa Jina langu Ali, sasa lazima nilee Nikikosa kula, nawe ndo chakula, nitakonda mazima And I belie-eeeve, nitakuwa nawewe Mwanzo mpaka mwisho And I belie-eeeve, baibe [Chorus] We all need love Nakupenda Tena nina imani sana Ushanitega, ushanitega We all need someone Nakupenda Tena nina imani sana Ushanitega, ushanitega So make love to me Unconditionally bae, unconditionally bae Make love to me Unconditionally bae, unconditionally bae\", \"We all need love Nakupenda Tena nina imani sana Ushanitega, ushanitega We all need someone Nakupenda Tena nina imani sana Ushanitega, ushanitega So make love to me Unconditionally bae, unconditionally bae Make love to me Unconditionally bae, unconditionally bae Ali (Bumaye) Sauti Sol (Bumaye) East Africa (Bumaye) Tanzania Kenya (Bumaye) Kigali (Bumaye) Bujumbura (Bumaye) Kampala (Bumaye) Kinsasha Bumaye\", \"Bumaye Bumaye Bumaye Bumaye Bumaye\"]]}'"
      ]
     },
     "execution_count": 9,
     "metadata": {},
     "output_type": "execute_result"
    }
   ],
   "source": [
    "data = {\n",
    "    \"song_name\":music_names,\n",
    "    \"lyrics\" :my_lyrics\n",
    "}\n",
    "\n",
    "file = json.dumps(data)\n",
    "file\n"
   ]
  },
  {
   "cell_type": "code",
   "execution_count": 10,
   "metadata": {},
   "outputs": [
    {
     "data": {
      "text/html": [
       "<div>\n",
       "<style scoped>\n",
       "    .dataframe tbody tr th:only-of-type {\n",
       "        vertical-align: middle;\n",
       "    }\n",
       "\n",
       "    .dataframe tbody tr th {\n",
       "        vertical-align: top;\n",
       "    }\n",
       "\n",
       "    .dataframe thead th {\n",
       "        text-align: right;\n",
       "    }\n",
       "</style>\n",
       "<table border=\"1\" class=\"dataframe\">\n",
       "  <thead>\n",
       "    <tr style=\"text-align: right;\">\n",
       "      <th></th>\n",
       "      <th>song_name</th>\n",
       "      <th>lyrics</th>\n",
       "    </tr>\n",
       "  </thead>\n",
       "  <tbody>\n",
       "    <tr>\n",
       "      <th>0</th>\n",
       "      <td>asubuhi</td>\n",
       "      <td>[Wayo wayo Wayo wayo wayo wayo wayo Asubuhi ni...</td>\n",
       "    </tr>\n",
       "    <tr>\n",
       "      <th>1</th>\n",
       "      <td>lazizi</td>\n",
       "      <td>[Verse 1: Lazizi wangu we Zawadi nono kutoka m...</td>\n",
       "    </tr>\n",
       "    <tr>\n",
       "      <th>2</th>\n",
       "      <td>mafunzo-ya-dunia</td>\n",
       "      <td>[Mafunzo ya dunia Niishi ni ose Nisote nikope ...</td>\n",
       "    </tr>\n",
       "  </tbody>\n",
       "</table>\n",
       "</div>"
      ],
      "text/plain": [
       "          song_name                                             lyrics\n",
       "0           asubuhi  [Wayo wayo Wayo wayo wayo wayo wayo Asubuhi ni...\n",
       "1            lazizi  [Verse 1: Lazizi wangu we Zawadi nono kutoka m...\n",
       "2  mafunzo-ya-dunia  [Mafunzo ya dunia Niishi ni ose Nisote nikope ..."
      ]
     },
     "execution_count": 10,
     "metadata": {},
     "output_type": "execute_result"
    }
   ],
   "source": [
    "import pandas as pd \n",
    "\n",
    "data_frame = pd.DataFrame(\n",
    "data\n",
    ")\n",
    "data_frame.head(3)"
   ]
  },
  {
   "cell_type": "code",
   "execution_count": 11,
   "metadata": {},
   "outputs": [],
   "source": [
    "data_frame.to_csv(\"lyrics.csv\")"
   ]
  },
  {
   "attachments": {},
   "cell_type": "markdown",
   "metadata": {},
   "source": [
    "#### Data Cleaning Phase.\n",
    "Now that we already have our files.<br>\n",
    "It's time to create something memorable.<br>\n",
    "\n",
    "I'm going to clean the files and Well explore the dataset together.\n",
    "This will seem very confusing at first but we can do it.\n",
    "\n"
   ]
  },
  {
   "cell_type": "code",
   "execution_count": 28,
   "metadata": {},
   "outputs": [
    {
     "data": {
      "text/html": [
       "<div>\n",
       "<style scoped>\n",
       "    .dataframe tbody tr th:only-of-type {\n",
       "        vertical-align: middle;\n",
       "    }\n",
       "\n",
       "    .dataframe tbody tr th {\n",
       "        vertical-align: top;\n",
       "    }\n",
       "\n",
       "    .dataframe thead th {\n",
       "        text-align: right;\n",
       "    }\n",
       "</style>\n",
       "<table border=\"1\" class=\"dataframe\">\n",
       "  <thead>\n",
       "    <tr style=\"text-align: right;\">\n",
       "      <th></th>\n",
       "      <th>Unnamed: 0</th>\n",
       "      <th>song_name</th>\n",
       "      <th>lyrics</th>\n",
       "    </tr>\n",
       "  </thead>\n",
       "  <tbody>\n",
       "    <tr>\n",
       "      <th>0</th>\n",
       "      <td>0</td>\n",
       "      <td>asubuhi</td>\n",
       "      <td>[\"Wayo wayo Wayo wayo wayo wayo wayo Asubuhi n...</td>\n",
       "    </tr>\n",
       "    <tr>\n",
       "      <th>1</th>\n",
       "      <td>1</td>\n",
       "      <td>lazizi</td>\n",
       "      <td>['Verse 1: Lazizi wangu we Zawadi nono kutoka ...</td>\n",
       "    </tr>\n",
       "    <tr>\n",
       "      <th>2</th>\n",
       "      <td>2</td>\n",
       "      <td>mafunzo-ya-dunia</td>\n",
       "      <td>['Mafunzo ya dunia Niishi ni ose Nisote nikope...</td>\n",
       "    </tr>\n",
       "  </tbody>\n",
       "</table>\n",
       "</div>"
      ],
      "text/plain": [
       "   Unnamed: 0         song_name  \\\n",
       "0           0           asubuhi   \n",
       "1           1            lazizi   \n",
       "2           2  mafunzo-ya-dunia   \n",
       "\n",
       "                                              lyrics  \n",
       "0  [\"Wayo wayo Wayo wayo wayo wayo wayo Asubuhi n...  \n",
       "1  ['Verse 1: Lazizi wangu we Zawadi nono kutoka ...  \n",
       "2  ['Mafunzo ya dunia Niishi ni ose Nisote nikope...  "
      ]
     },
     "execution_count": 28,
     "metadata": {},
     "output_type": "execute_result"
    }
   ],
   "source": [
    "\"\"\"Phase 2 of the Cleaning Phase\"\"\"\n",
    "import pandas as pd\n",
    "\n",
    "df = pd.read_csv(\"lyrics.csv\")\n",
    "df.head(3)"
   ]
  },
  {
   "cell_type": "code",
   "execution_count": 29,
   "metadata": {},
   "outputs": [],
   "source": [
    "import re"
   ]
  },
  {
   "cell_type": "code",
   "execution_count": 86,
   "metadata": {},
   "outputs": [],
   "source": [
    "df['cleaned_lyrics'] = df['lyrics'].apply(lambda s: ' '.join(re.sub(r\"[][.,!?:;-='...@#_]\",\" \",s).split()).lower())"
   ]
  },
  {
   "cell_type": "code",
   "execution_count": 87,
   "metadata": {},
   "outputs": [
    {
     "data": {
      "text/html": [
       "<div>\n",
       "<style scoped>\n",
       "    .dataframe tbody tr th:only-of-type {\n",
       "        vertical-align: middle;\n",
       "    }\n",
       "\n",
       "    .dataframe tbody tr th {\n",
       "        vertical-align: top;\n",
       "    }\n",
       "\n",
       "    .dataframe thead th {\n",
       "        text-align: right;\n",
       "    }\n",
       "</style>\n",
       "<table border=\"1\" class=\"dataframe\">\n",
       "  <thead>\n",
       "    <tr style=\"text-align: right;\">\n",
       "      <th></th>\n",
       "      <th>Unnamed: 0</th>\n",
       "      <th>song_name</th>\n",
       "      <th>lyrics</th>\n",
       "      <th>cleaned_lyrics</th>\n",
       "    </tr>\n",
       "  </thead>\n",
       "  <tbody>\n",
       "    <tr>\n",
       "      <th>0</th>\n",
       "      <td>0</td>\n",
       "      <td>asubuhi</td>\n",
       "      <td>[\"Wayo wayo Wayo wayo wayo wayo wayo Asubuhi n...</td>\n",
       "      <td>\"wayo wayo wayo wayo wayo wayo wayo asubuhi ni...</td>\n",
       "    </tr>\n",
       "    <tr>\n",
       "      <th>1</th>\n",
       "      <td>1</td>\n",
       "      <td>lazizi</td>\n",
       "      <td>['Verse 1: Lazizi wangu we Zawadi nono kutoka ...</td>\n",
       "      <td>verse 1 lazizi wangu we zawadi nono kutoka mbi...</td>\n",
       "    </tr>\n",
       "    <tr>\n",
       "      <th>2</th>\n",
       "      <td>2</td>\n",
       "      <td>mafunzo-ya-dunia</td>\n",
       "      <td>['Mafunzo ya dunia Niishi ni ose Nisote nikope...</td>\n",
       "      <td>mafunzo ya dunia niishi ni ose nisote nikope n...</td>\n",
       "    </tr>\n",
       "    <tr>\n",
       "      <th>3</th>\n",
       "      <td>3</td>\n",
       "      <td>zosi</td>\n",
       "      <td>[]</td>\n",
       "      <td></td>\n",
       "    </tr>\n",
       "    <tr>\n",
       "      <th>4</th>\n",
       "      <td>4</td>\n",
       "      <td>mama-papa</td>\n",
       "      <td>[\"[Verse 1: Bien] Nimlinde nimpende eh!asali w...</td>\n",
       "      <td>\" verse 1 bien nimlinde nimpende eh asali wang...</td>\n",
       "    </tr>\n",
       "    <tr>\n",
       "      <th>...</th>\n",
       "      <td>...</td>\n",
       "      <td>...</td>\n",
       "      <td>...</td>\n",
       "      <td>...</td>\n",
       "    </tr>\n",
       "    <tr>\n",
       "      <th>59</th>\n",
       "      <td>59</td>\n",
       "      <td>money-lover</td>\n",
       "      <td>['[Intro] Do you love me baby Do you love my m...</td>\n",
       "      <td>intro do you love me baby do you love my money...</td>\n",
       "    </tr>\n",
       "    <tr>\n",
       "      <th>60</th>\n",
       "      <td>60</td>\n",
       "      <td>nairobi</td>\n",
       "      <td>[]</td>\n",
       "      <td></td>\n",
       "    </tr>\n",
       "    <tr>\n",
       "      <th>61</th>\n",
       "      <td>61</td>\n",
       "      <td>oversized-t-shirt</td>\n",
       "      <td>[]</td>\n",
       "      <td></td>\n",
       "    </tr>\n",
       "    <tr>\n",
       "      <th>62</th>\n",
       "      <td>62</td>\n",
       "      <td>sexting</td>\n",
       "      <td>[]</td>\n",
       "      <td></td>\n",
       "    </tr>\n",
       "    <tr>\n",
       "      <th>63</th>\n",
       "      <td>63</td>\n",
       "      <td>unconditionally-bae</td>\n",
       "      <td>[\"[Verse 1: Bien-Aimé] We all need love We all...</td>\n",
       "      <td>\" verse 1 bien-aimé we all need love we all ne...</td>\n",
       "    </tr>\n",
       "  </tbody>\n",
       "</table>\n",
       "<p>64 rows × 4 columns</p>\n",
       "</div>"
      ],
      "text/plain": [
       "    Unnamed: 0            song_name  \\\n",
       "0            0              asubuhi   \n",
       "1            1               lazizi   \n",
       "2            2     mafunzo-ya-dunia   \n",
       "3            3                 zosi   \n",
       "4            4            mama-papa   \n",
       "..         ...                  ...   \n",
       "59          59          money-lover   \n",
       "60          60              nairobi   \n",
       "61          61    oversized-t-shirt   \n",
       "62          62              sexting   \n",
       "63          63  unconditionally-bae   \n",
       "\n",
       "                                               lyrics  \\\n",
       "0   [\"Wayo wayo Wayo wayo wayo wayo wayo Asubuhi n...   \n",
       "1   ['Verse 1: Lazizi wangu we Zawadi nono kutoka ...   \n",
       "2   ['Mafunzo ya dunia Niishi ni ose Nisote nikope...   \n",
       "3                                                  []   \n",
       "4   [\"[Verse 1: Bien] Nimlinde nimpende eh!asali w...   \n",
       "..                                                ...   \n",
       "59  ['[Intro] Do you love me baby Do you love my m...   \n",
       "60                                                 []   \n",
       "61                                                 []   \n",
       "62                                                 []   \n",
       "63  [\"[Verse 1: Bien-Aimé] We all need love We all...   \n",
       "\n",
       "                                       cleaned_lyrics  \n",
       "0   \"wayo wayo wayo wayo wayo wayo wayo asubuhi ni...  \n",
       "1   verse 1 lazizi wangu we zawadi nono kutoka mbi...  \n",
       "2   mafunzo ya dunia niishi ni ose nisote nikope n...  \n",
       "3                                                      \n",
       "4   \" verse 1 bien nimlinde nimpende eh asali wang...  \n",
       "..                                                ...  \n",
       "59  intro do you love me baby do you love my money...  \n",
       "60                                                     \n",
       "61                                                     \n",
       "62                                                     \n",
       "63  \" verse 1 bien-aimé we all need love we all ne...  \n",
       "\n",
       "[64 rows x 4 columns]"
      ]
     },
     "execution_count": 87,
     "metadata": {},
     "output_type": "execute_result"
    }
   ],
   "source": [
    "df"
   ]
  },
  {
   "cell_type": "code",
   "execution_count": 90,
   "metadata": {},
   "outputs": [
    {
     "name": "stderr",
     "output_type": "stream",
     "text": [
      "[nltk_data] Downloading package stopwords to\n",
      "[nltk_data]     C:\\Users\\enigma\\AppData\\Roaming\\nltk_data...\n",
      "[nltk_data]   Package stopwords is already up-to-date!\n"
     ]
    }
   ],
   "source": [
    "#Remove stop words\n",
    "import nltk\n",
    "nltk.download('stopwords')\n",
    "from nltk.corpus import stopwords"
   ]
  },
  {
   "cell_type": "code",
   "execution_count": 94,
   "metadata": {},
   "outputs": [
    {
     "ename": "OSError",
     "evalue": "No such file or directory: 'C:\\\\Users\\\\enigma\\\\AppData\\\\Roaming\\\\nltk_data\\\\corpora\\\\stopwords\\\\swahili'",
     "output_type": "error",
     "traceback": [
      "\u001b[1;31m---------------------------------------------------------------------------\u001b[0m",
      "\u001b[1;31mOSError\u001b[0m                                   Traceback (most recent call last)",
      "\u001b[1;32m~\\AppData\\Local\\Temp\\ipykernel_10216\\1653372259.py\u001b[0m in \u001b[0;36m<module>\u001b[1;34m\u001b[0m\n\u001b[1;32m----> 1\u001b[1;33m \u001b[0mstop\u001b[0m \u001b[1;33m=\u001b[0m \u001b[0mset\u001b[0m\u001b[1;33m(\u001b[0m\u001b[0mstopwords\u001b[0m\u001b[1;33m.\u001b[0m\u001b[0mwords\u001b[0m\u001b[1;33m(\u001b[0m\u001b[1;34m'swahili'\u001b[0m\u001b[1;33m)\u001b[0m\u001b[1;33m)\u001b[0m\u001b[1;33m\u001b[0m\u001b[1;33m\u001b[0m\u001b[0m\n\u001b[0m\u001b[0;32m      2\u001b[0m \u001b[0mprint\u001b[0m\u001b[1;33m(\u001b[0m\u001b[0mstop\u001b[0m\u001b[1;33m)\u001b[0m\u001b[1;33m\u001b[0m\u001b[1;33m\u001b[0m\u001b[0m\n",
      "\u001b[1;32mc:\\ProgramData\\Anaconda3\\lib\\site-packages\\nltk\\corpus\\reader\\wordlist.py\u001b[0m in \u001b[0;36mwords\u001b[1;34m(self, fileids, ignore_lines_startswith)\u001b[0m\n\u001b[0;32m     19\u001b[0m         return [\n\u001b[0;32m     20\u001b[0m             \u001b[0mline\u001b[0m\u001b[1;33m\u001b[0m\u001b[1;33m\u001b[0m\u001b[0m\n\u001b[1;32m---> 21\u001b[1;33m             \u001b[1;32mfor\u001b[0m \u001b[0mline\u001b[0m \u001b[1;32min\u001b[0m \u001b[0mline_tokenize\u001b[0m\u001b[1;33m(\u001b[0m\u001b[0mself\u001b[0m\u001b[1;33m.\u001b[0m\u001b[0mraw\u001b[0m\u001b[1;33m(\u001b[0m\u001b[0mfileids\u001b[0m\u001b[1;33m)\u001b[0m\u001b[1;33m)\u001b[0m\u001b[1;33m\u001b[0m\u001b[1;33m\u001b[0m\u001b[0m\n\u001b[0m\u001b[0;32m     22\u001b[0m             \u001b[1;32mif\u001b[0m \u001b[1;32mnot\u001b[0m \u001b[0mline\u001b[0m\u001b[1;33m.\u001b[0m\u001b[0mstartswith\u001b[0m\u001b[1;33m(\u001b[0m\u001b[0mignore_lines_startswith\u001b[0m\u001b[1;33m)\u001b[0m\u001b[1;33m\u001b[0m\u001b[1;33m\u001b[0m\u001b[0m\n\u001b[0;32m     23\u001b[0m         ]\n",
      "\u001b[1;32mc:\\ProgramData\\Anaconda3\\lib\\site-packages\\nltk\\corpus\\reader\\api.py\u001b[0m in \u001b[0;36mraw\u001b[1;34m(self, fileids)\u001b[0m\n\u001b[0;32m    216\u001b[0m         \u001b[0mcontents\u001b[0m \u001b[1;33m=\u001b[0m \u001b[1;33m[\u001b[0m\u001b[1;33m]\u001b[0m\u001b[1;33m\u001b[0m\u001b[1;33m\u001b[0m\u001b[0m\n\u001b[0;32m    217\u001b[0m         \u001b[1;32mfor\u001b[0m \u001b[0mf\u001b[0m \u001b[1;32min\u001b[0m \u001b[0mfileids\u001b[0m\u001b[1;33m:\u001b[0m\u001b[1;33m\u001b[0m\u001b[1;33m\u001b[0m\u001b[0m\n\u001b[1;32m--> 218\u001b[1;33m             \u001b[1;32mwith\u001b[0m \u001b[0mself\u001b[0m\u001b[1;33m.\u001b[0m\u001b[0mopen\u001b[0m\u001b[1;33m(\u001b[0m\u001b[0mf\u001b[0m\u001b[1;33m)\u001b[0m \u001b[1;32mas\u001b[0m \u001b[0mfp\u001b[0m\u001b[1;33m:\u001b[0m\u001b[1;33m\u001b[0m\u001b[1;33m\u001b[0m\u001b[0m\n\u001b[0m\u001b[0;32m    219\u001b[0m                 \u001b[0mcontents\u001b[0m\u001b[1;33m.\u001b[0m\u001b[0mappend\u001b[0m\u001b[1;33m(\u001b[0m\u001b[0mfp\u001b[0m\u001b[1;33m.\u001b[0m\u001b[0mread\u001b[0m\u001b[1;33m(\u001b[0m\u001b[1;33m)\u001b[0m\u001b[1;33m)\u001b[0m\u001b[1;33m\u001b[0m\u001b[1;33m\u001b[0m\u001b[0m\n\u001b[0;32m    220\u001b[0m         \u001b[1;32mreturn\u001b[0m \u001b[0mconcat\u001b[0m\u001b[1;33m(\u001b[0m\u001b[0mcontents\u001b[0m\u001b[1;33m)\u001b[0m\u001b[1;33m\u001b[0m\u001b[1;33m\u001b[0m\u001b[0m\n",
      "\u001b[1;32mc:\\ProgramData\\Anaconda3\\lib\\site-packages\\nltk\\corpus\\reader\\api.py\u001b[0m in \u001b[0;36mopen\u001b[1;34m(self, file)\u001b[0m\n\u001b[0;32m    229\u001b[0m         \"\"\"\n\u001b[0;32m    230\u001b[0m         \u001b[0mencoding\u001b[0m \u001b[1;33m=\u001b[0m \u001b[0mself\u001b[0m\u001b[1;33m.\u001b[0m\u001b[0mencoding\u001b[0m\u001b[1;33m(\u001b[0m\u001b[0mfile\u001b[0m\u001b[1;33m)\u001b[0m\u001b[1;33m\u001b[0m\u001b[1;33m\u001b[0m\u001b[0m\n\u001b[1;32m--> 231\u001b[1;33m         \u001b[0mstream\u001b[0m \u001b[1;33m=\u001b[0m \u001b[0mself\u001b[0m\u001b[1;33m.\u001b[0m\u001b[0m_root\u001b[0m\u001b[1;33m.\u001b[0m\u001b[0mjoin\u001b[0m\u001b[1;33m(\u001b[0m\u001b[0mfile\u001b[0m\u001b[1;33m)\u001b[0m\u001b[1;33m.\u001b[0m\u001b[0mopen\u001b[0m\u001b[1;33m(\u001b[0m\u001b[0mencoding\u001b[0m\u001b[1;33m)\u001b[0m\u001b[1;33m\u001b[0m\u001b[1;33m\u001b[0m\u001b[0m\n\u001b[0m\u001b[0;32m    232\u001b[0m         \u001b[1;32mreturn\u001b[0m \u001b[0mstream\u001b[0m\u001b[1;33m\u001b[0m\u001b[1;33m\u001b[0m\u001b[0m\n\u001b[0;32m    233\u001b[0m \u001b[1;33m\u001b[0m\u001b[0m\n",
      "\u001b[1;32mc:\\ProgramData\\Anaconda3\\lib\\site-packages\\nltk\\data.py\u001b[0m in \u001b[0;36mjoin\u001b[1;34m(self, fileid)\u001b[0m\n\u001b[0;32m    332\u001b[0m     \u001b[1;32mdef\u001b[0m \u001b[0mjoin\u001b[0m\u001b[1;33m(\u001b[0m\u001b[0mself\u001b[0m\u001b[1;33m,\u001b[0m \u001b[0mfileid\u001b[0m\u001b[1;33m)\u001b[0m\u001b[1;33m:\u001b[0m\u001b[1;33m\u001b[0m\u001b[1;33m\u001b[0m\u001b[0m\n\u001b[0;32m    333\u001b[0m         \u001b[0m_path\u001b[0m \u001b[1;33m=\u001b[0m \u001b[0mos\u001b[0m\u001b[1;33m.\u001b[0m\u001b[0mpath\u001b[0m\u001b[1;33m.\u001b[0m\u001b[0mjoin\u001b[0m\u001b[1;33m(\u001b[0m\u001b[0mself\u001b[0m\u001b[1;33m.\u001b[0m\u001b[0m_path\u001b[0m\u001b[1;33m,\u001b[0m \u001b[0mfileid\u001b[0m\u001b[1;33m)\u001b[0m\u001b[1;33m\u001b[0m\u001b[1;33m\u001b[0m\u001b[0m\n\u001b[1;32m--> 334\u001b[1;33m         \u001b[1;32mreturn\u001b[0m \u001b[0mFileSystemPathPointer\u001b[0m\u001b[1;33m(\u001b[0m\u001b[0m_path\u001b[0m\u001b[1;33m)\u001b[0m\u001b[1;33m\u001b[0m\u001b[1;33m\u001b[0m\u001b[0m\n\u001b[0m\u001b[0;32m    335\u001b[0m \u001b[1;33m\u001b[0m\u001b[0m\n\u001b[0;32m    336\u001b[0m     \u001b[1;32mdef\u001b[0m \u001b[0m__repr__\u001b[0m\u001b[1;33m(\u001b[0m\u001b[0mself\u001b[0m\u001b[1;33m)\u001b[0m\u001b[1;33m:\u001b[0m\u001b[1;33m\u001b[0m\u001b[1;33m\u001b[0m\u001b[0m\n",
      "\u001b[1;32mc:\\ProgramData\\Anaconda3\\lib\\site-packages\\nltk\\compat.py\u001b[0m in \u001b[0;36m_decorator\u001b[1;34m(*args, **kwargs)\u001b[0m\n\u001b[0;32m     39\u001b[0m     \u001b[1;32mdef\u001b[0m \u001b[0m_decorator\u001b[0m\u001b[1;33m(\u001b[0m\u001b[1;33m*\u001b[0m\u001b[0margs\u001b[0m\u001b[1;33m,\u001b[0m \u001b[1;33m**\u001b[0m\u001b[0mkwargs\u001b[0m\u001b[1;33m)\u001b[0m\u001b[1;33m:\u001b[0m\u001b[1;33m\u001b[0m\u001b[1;33m\u001b[0m\u001b[0m\n\u001b[0;32m     40\u001b[0m         \u001b[0margs\u001b[0m \u001b[1;33m=\u001b[0m \u001b[1;33m(\u001b[0m\u001b[0margs\u001b[0m\u001b[1;33m[\u001b[0m\u001b[1;36m0\u001b[0m\u001b[1;33m]\u001b[0m\u001b[1;33m,\u001b[0m \u001b[0madd_py3_data\u001b[0m\u001b[1;33m(\u001b[0m\u001b[0margs\u001b[0m\u001b[1;33m[\u001b[0m\u001b[1;36m1\u001b[0m\u001b[1;33m]\u001b[0m\u001b[1;33m)\u001b[0m\u001b[1;33m)\u001b[0m \u001b[1;33m+\u001b[0m \u001b[0margs\u001b[0m\u001b[1;33m[\u001b[0m\u001b[1;36m2\u001b[0m\u001b[1;33m:\u001b[0m\u001b[1;33m]\u001b[0m\u001b[1;33m\u001b[0m\u001b[1;33m\u001b[0m\u001b[0m\n\u001b[1;32m---> 41\u001b[1;33m         \u001b[1;32mreturn\u001b[0m \u001b[0minit_func\u001b[0m\u001b[1;33m(\u001b[0m\u001b[1;33m*\u001b[0m\u001b[0margs\u001b[0m\u001b[1;33m,\u001b[0m \u001b[1;33m**\u001b[0m\u001b[0mkwargs\u001b[0m\u001b[1;33m)\u001b[0m\u001b[1;33m\u001b[0m\u001b[1;33m\u001b[0m\u001b[0m\n\u001b[0m\u001b[0;32m     42\u001b[0m \u001b[1;33m\u001b[0m\u001b[0m\n\u001b[0;32m     43\u001b[0m     \u001b[1;32mreturn\u001b[0m \u001b[0mwraps\u001b[0m\u001b[1;33m(\u001b[0m\u001b[0minit_func\u001b[0m\u001b[1;33m)\u001b[0m\u001b[1;33m(\u001b[0m\u001b[0m_decorator\u001b[0m\u001b[1;33m)\u001b[0m\u001b[1;33m\u001b[0m\u001b[1;33m\u001b[0m\u001b[0m\n",
      "\u001b[1;32mc:\\ProgramData\\Anaconda3\\lib\\site-packages\\nltk\\data.py\u001b[0m in \u001b[0;36m__init__\u001b[1;34m(self, _path)\u001b[0m\n\u001b[0;32m    310\u001b[0m         \u001b[0m_path\u001b[0m \u001b[1;33m=\u001b[0m \u001b[0mos\u001b[0m\u001b[1;33m.\u001b[0m\u001b[0mpath\u001b[0m\u001b[1;33m.\u001b[0m\u001b[0mabspath\u001b[0m\u001b[1;33m(\u001b[0m\u001b[0m_path\u001b[0m\u001b[1;33m)\u001b[0m\u001b[1;33m\u001b[0m\u001b[1;33m\u001b[0m\u001b[0m\n\u001b[0;32m    311\u001b[0m         \u001b[1;32mif\u001b[0m \u001b[1;32mnot\u001b[0m \u001b[0mos\u001b[0m\u001b[1;33m.\u001b[0m\u001b[0mpath\u001b[0m\u001b[1;33m.\u001b[0m\u001b[0mexists\u001b[0m\u001b[1;33m(\u001b[0m\u001b[0m_path\u001b[0m\u001b[1;33m)\u001b[0m\u001b[1;33m:\u001b[0m\u001b[1;33m\u001b[0m\u001b[1;33m\u001b[0m\u001b[0m\n\u001b[1;32m--> 312\u001b[1;33m             \u001b[1;32mraise\u001b[0m \u001b[0mOSError\u001b[0m\u001b[1;33m(\u001b[0m\u001b[1;34m\"No such file or directory: %r\"\u001b[0m \u001b[1;33m%\u001b[0m \u001b[0m_path\u001b[0m\u001b[1;33m)\u001b[0m\u001b[1;33m\u001b[0m\u001b[1;33m\u001b[0m\u001b[0m\n\u001b[0m\u001b[0;32m    313\u001b[0m         \u001b[0mself\u001b[0m\u001b[1;33m.\u001b[0m\u001b[0m_path\u001b[0m \u001b[1;33m=\u001b[0m \u001b[0m_path\u001b[0m\u001b[1;33m\u001b[0m\u001b[1;33m\u001b[0m\u001b[0m\n\u001b[0;32m    314\u001b[0m \u001b[1;33m\u001b[0m\u001b[0m\n",
      "\u001b[1;31mOSError\u001b[0m: No such file or directory: 'C:\\\\Users\\\\enigma\\\\AppData\\\\Roaming\\\\nltk_data\\\\corpora\\\\stopwords\\\\swahili'"
     ]
    }
   ],
   "source": [
    "stop = set(stopwords.words('swahili'))\n",
    "print(stop)"
   ]
  }
 ],
 "metadata": {
  "kernelspec": {
   "display_name": "base",
   "language": "python",
   "name": "python3"
  },
  "language_info": {
   "codemirror_mode": {
    "name": "ipython",
    "version": 3
   },
   "file_extension": ".py",
   "mimetype": "text/x-python",
   "name": "python",
   "nbconvert_exporter": "python",
   "pygments_lexer": "ipython3",
   "version": "3.9.13 (main, Aug 25 2022, 23:51:50) [MSC v.1916 64 bit (AMD64)]"
  },
  "orig_nbformat": 4,
  "vscode": {
   "interpreter": {
    "hash": "ad2bdc8ecc057115af97d19610ffacc2b4e99fae6737bb82f5d7fb13d2f2c186"
   }
  }
 },
 "nbformat": 4,
 "nbformat_minor": 2
}
